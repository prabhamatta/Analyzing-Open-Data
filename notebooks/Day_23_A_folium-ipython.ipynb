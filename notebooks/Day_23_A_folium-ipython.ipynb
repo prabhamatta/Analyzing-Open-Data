{
 "metadata": {
  "name": "",
  "signature": "sha256:7f36793bf55bbd7993568aa9244b8463359bebedd1788d1daf90f6107d5a8d09"
 },
 "nbformat": 3,
 "nbformat_minor": 0,
 "worksheets": [
  {
   "cells": [
    {
     "cell_type": "markdown",
     "metadata": {},
     "source": [
      "A promising route for using leaflet.js maps in the IPython notebook -- use [Folium: Python Data. Leaflet.js Maps. \u2014 Folium 0.1.2 documentation](https://folium.readthedocs.org/en/latest/).\n",
      "\n",
      "This notebook is a tiny modification of http://nbviewer.ipython.org/gist/bburky/7763555/folium-ipython.ipynb.  (See https://gist.github.com/bburky/7763555) Specifically, I host the us_counties_20m_topo.json file on my server.  I confirm that this notebook works in IPython 2.0 "
     ]
    },
    {
     "cell_type": "code",
     "collapsed": false,
     "input": [
      "from IPython.display import HTML\n",
      "import folium"
     ],
     "language": "python",
     "metadata": {},
     "outputs": [],
     "prompt_number": 1
    },
    {
     "cell_type": "code",
     "collapsed": false,
     "input": [
      "def inline_map(map):\n",
      "    \"\"\"\n",
      "    Embeds the HTML source of the map directly into the IPython notebook.\n",
      "    \n",
      "    This method will not work if the map depends on any files (json data). Also this uses\n",
      "    the HTML5 srcdoc attribute, which may not be supported in all browsers.\n",
      "    \"\"\"\n",
      "    map._build_map()\n",
      "    return HTML('<iframe srcdoc=\"{srcdoc}\" style=\"width: 100%; height: 510px; border: none\"></iframe>'.format(srcdoc=map.HTML.replace('\"', '&quot;')))\n",
      "\n",
      "def embed_map(map, path=\"map.html\"):\n",
      "    \"\"\"\n",
      "    Embeds a linked iframe to the map into the IPython notebook.\n",
      "    \n",
      "    Note: this method will not capture the source of the map into the notebook.\n",
      "    This method should work for all maps (as long as they use relative urls).\n",
      "    \"\"\"\n",
      "    map.create_map(path=path)\n",
      "    return HTML('<iframe src=\"files/{path}\" style=\"width: 100%; height: 510px; border: none\"></iframe>'.format(path=path))"
     ],
     "language": "python",
     "metadata": {},
     "outputs": [],
     "prompt_number": 2
    },
    {
     "cell_type": "code",
     "collapsed": false,
     "input": [
      "map = folium.Map(location=[40, -99], zoom_start=4)\n",
      "map.simple_marker([40.67, -73.94], popup='Add <b>popup</b> text here.')\n",
      "inline_map(map)"
     ],
     "language": "python",
     "metadata": {},
     "outputs": [
      {
       "html": [
        "<iframe srcdoc=\"<!DOCTYPE html>\n",
        "<head>\n",
        "   <link rel=&quot;stylesheet&quot; href=&quot;http://cdn.leafletjs.com/leaflet-0.5/leaflet.css&quot; />\n",
        "   <script src=&quot;http://cdn.leafletjs.com/leaflet-0.5/leaflet.js&quot;></script>\n",
        "   \n",
        "   \n",
        "   \n",
        "   \n",
        "\n",
        "\n",
        "<style>\n",
        "\n",
        "#map {\n",
        "  position:absolute;\n",
        "  top:0;\n",
        "  bottom:0;\n",
        "  right:0;\n",
        "  left:0;\n",
        "}\n",
        "\n",
        "</style>\n",
        "</head>\n",
        "<body>\n",
        "\n",
        "        <div id=&quot;map&quot; style=&quot;width: 960px; height: 500px&quot;></div>\n",
        "\n",
        "<script>\n",
        "\n",
        "\n",
        "\n",
        "var map = L.map('map').setView([40, -99], 4);\n",
        "\n",
        "L.tileLayer('http://{s}.tile.openstreetmap.org/{z}/{x}/{y}.png', {\n",
        "    maxZoom: 18,\n",
        "    attribution: 'Map data (c) <a href=&quot;http://openstreetmap.org&quot;>OpenStreetMap</a> contributors'\n",
        "}).addTo(map);\n",
        "\n",
        "\n",
        "var marker_1 = L.marker([40.67, -73.94]);\n",
        "marker_1.bindPopup(&quot;Add <b>popup</b> text here.&quot;);\n",
        "map.addLayer(marker_1)\n",
        "\n",
        "\n",
        "\n",
        "\n",
        "\n",
        "\n",
        "</script>\n",
        "\n",
        "</body>\" style=\"width: 100%; height: 510px; border: none\"></iframe>"
       ],
       "metadata": {},
       "output_type": "pyout",
       "prompt_number": 3,
       "text": [
        "<IPython.core.display.HTML at 0x106cd6510>"
       ]
      }
     ],
     "prompt_number": 3
    },
    {
     "cell_type": "code",
     "collapsed": false,
     "input": [
      "import pandas as pd\n",
      "\n",
      "#Grab the geojson from github\n",
      "#county_geo = r'us_counties_20m_topo.json'\n",
      "# https://gist.githubusercontent.com/wrobstory/5609959/raw/17e222ecd9e26348f50a04fa484485a0e0f54a58/us_counties_20m_topo.json\n",
      "county_geo = 'http://mashupguide.net/wwod14/us_counties_20m_topo.json'\n",
      "county_data = 'https://raw.github.com/wrobstory/folium/master/examples/data/us_county_data.csv'\n",
      "\n",
      "df = pd.read_csv(county_data, na_values=[' '])\n",
      "df['FIPS_Code'] = df['FIPS_Code'].astype(str)\n",
      "\n",
      "def set_id(fips):\n",
      "    '''Modify FIPS code to match GeoJSON property'''\n",
      "    if fips == '0':\n",
      "        return None\n",
      "    elif len(fips) <= 4:\n",
      "        return ''.join(['0500000US0', fips])\n",
      "    else:\n",
      "        return ''.join(['0500000US', fips])\n",
      "\n",
      "#Apply set_id, drop NaN\n",
      "df['GEO_ID'] = df['FIPS_Code'].apply(set_id)\n",
      "df = df.dropna()\n",
      "\n",
      "map = folium.Map(location=[40, -99], zoom_start=4)\n",
      "map.geo_json(geo_path=county_geo, data_out='data2.json', data=df,\n",
      "               columns=['GEO_ID', 'Unemployment_rate_2011'],\n",
      "               key_on='feature.id',\n",
      "               threshold_scale=[0, 5, 7, 9, 11, 13],\n",
      "               fill_color='YlGnBu', line_opacity=0.3,\n",
      "               legend_name='Unemployment Rate 2011 (%)',\n",
      "               topojson='objects.us_counties_20m')\n",
      "\n",
      "embed_map(map)"
     ],
     "language": "python",
     "metadata": {},
     "outputs": [
      {
       "html": [
        "<iframe src=\"files/map.html\" style=\"width: 100%; height: 510px; border: none\"></iframe>"
       ],
       "metadata": {},
       "output_type": "pyout",
       "prompt_number": 4,
       "text": [
        "<IPython.core.display.HTML at 0x106d17910>"
       ]
      }
     ],
     "prompt_number": 4
    },
    {
     "cell_type": "code",
     "collapsed": false,
     "input": [],
     "language": "python",
     "metadata": {},
     "outputs": [],
     "prompt_number": 4
    }
   ],
   "metadata": {}
  }
 ]
}
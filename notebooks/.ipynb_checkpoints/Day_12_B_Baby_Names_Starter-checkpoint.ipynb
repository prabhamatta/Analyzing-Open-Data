{
 "metadata": {
  "name": "",
  "signature": "sha256:bc2f2e4168ab141554cd443aa7f5b73587bbe64ede03c0ef062a4ca1b7e1f24d"
 },
 "nbformat": 3,
 "nbformat_minor": 0,
 "worksheets": [
  {
   "cells": [
    {
     "cell_type": "heading",
     "level": 1,
     "metadata": {},
     "source": [
      "Goals"
     ]
    },
    {
     "cell_type": "markdown",
     "metadata": {},
     "source": [
      "* learn from how `PfDA` treats the baby names database\n",
      "* focus on a specific problem with the baby names database: compute the change in the sex of persons with given names"
     ]
    },
    {
     "cell_type": "code",
     "collapsed": false,
     "input": [
      "%pylab --no-import-all inline"
     ],
     "language": "python",
     "metadata": {},
     "outputs": [
      {
       "output_type": "stream",
       "stream": "stdout",
       "text": [
        "Populating the interactive namespace from numpy and matplotlib\n"
       ]
      }
     ],
     "prompt_number": 1
    },
    {
     "cell_type": "code",
     "collapsed": false,
     "input": [
      "import matplotlib.pyplot as plt\n",
      "import numpy as np\n",
      "\n",
      "from pylab import figure, show\n",
      "\n",
      "from pandas import DataFrame, Series\n",
      "import pandas as pd"
     ],
     "language": "python",
     "metadata": {},
     "outputs": [],
     "prompt_number": 2
    },
    {
     "cell_type": "heading",
     "level": 1,
     "metadata": {},
     "source": [
      "Preliminaries: Assumed location of pydata-book files"
     ]
    },
    {
     "cell_type": "markdown",
     "metadata": {},
     "source": [
      "To make it more practical for me to look at your homework, I'm again going to assume a relative placement of files.  I placed the files from \n",
      "\n",
      "https://github.com/pydata/pydata-book\n",
      "\n",
      "in a local directory, which in my case is \"/Users/raymondyee/D/Document/Working_with_Open_Data/pydata-book/\" \n",
      "\n",
      "and then symbolically linked (`ln -s`) to the the pydata-book from the root directory of the working-open-data folder.  i.e., on OS X\n",
      "\n",
      "    cd /Users/raymondyee/D/Document/Working_with_Open_Data/working-open-data\n",
      "    ln -s /Users/raymondyee/D/Document/Working_with_Open_Data/pydata-book/ pydata-book\n",
      "\n",
      "That way the files from the pydata-book repository look like they sit in the working-open-data directory -- without having to actually copy the files.\n",
      "\n",
      "With this arrangment, I should then be able to drop your notebook into my own notebooks directory and run them without having to mess around with paths."
     ]
    },
    {
     "cell_type": "code",
     "collapsed": false,
     "input": [
      "import os\n",
      "\n",
      "NAMES_DIR = os.path.join(os.pardir, \"pydata-book\", \"ch02\", \"names\")\n",
      "\n",
      "assert os.path.exists(NAMES_DIR)"
     ],
     "language": "python",
     "metadata": {},
     "outputs": [],
     "prompt_number": 3
    },
    {
     "cell_type": "markdown",
     "metadata": {},
     "source": [
      "**Please make sure the above assertion works.**"
     ]
    },
    {
     "cell_type": "heading",
     "level": 1,
     "metadata": {},
     "source": [
      "Baby names dataset"
     ]
    },
    {
     "cell_type": "markdown",
     "metadata": {},
     "source": [
      "discussed in p. 35 of `PfDA` book"
     ]
    },
    {
     "cell_type": "markdown",
     "metadata": {},
     "source": [
      "To download all the data, including that for 2011 and 2012: [Popular Baby Names](http://www.ssa.gov/OACT/babynames/limits.html) --> includes state by state data."
     ]
    },
    {
     "cell_type": "heading",
     "level": 2,
     "metadata": {},
     "source": [
      "Start with one year 1880"
     ]
    },
    {
     "cell_type": "code",
     "collapsed": false,
     "input": [
      "# take a look at some lines from each of the names files\n",
      "\n",
      "import os\n",
      "os.path.join(NAMES_DIR,'yob1880.txt')\n",
      "yob1880_path = os.path.join(NAMES_DIR,'yob1880.txt')\n",
      "!head $yob1880_path"
     ],
     "language": "python",
     "metadata": {},
     "outputs": [
      {
       "output_type": "stream",
       "stream": "stdout",
       "text": [
        "Mary,F,7065\r",
        "\r\n",
        "Anna,F,2604\r",
        "\r\n",
        "Emma,F,2003\r",
        "\r\n",
        "Elizabeth,F,1939\r",
        "\r\n",
        "Minnie,F,1746\r",
        "\r\n",
        "Margaret,F,1578\r",
        "\r\n",
        "Ida,F,1472\r",
        "\r\n",
        "Alice,F,1414\r",
        "\r\n",
        "Bertha,F,1320\r",
        "\r\n",
        "Sarah,F,1288\r",
        "\r\n"
       ]
      }
     ],
     "prompt_number": 4
    },
    {
     "cell_type": "code",
     "collapsed": false,
     "input": [
      "# create a DataFrame for 1880 data\n",
      "\n",
      "import pandas as pd\n",
      "import codecs\n",
      "\n",
      "names1880_file = codecs.open(os.path.join(NAMES_DIR,'yob1880.txt'), encoding='iso-8859-1')\n",
      "names1880 = pd.read_csv(names1880_file, names=['name', 'sex', 'births'])\n",
      "\n",
      "names1880.head()"
     ],
     "language": "python",
     "metadata": {},
     "outputs": [
      {
       "html": [
        "<div style=\"max-height:1000px;max-width:1500px;overflow:auto;\">\n",
        "<table border=\"1\" class=\"dataframe\">\n",
        "  <thead>\n",
        "    <tr style=\"text-align: right;\">\n",
        "      <th></th>\n",
        "      <th>name</th>\n",
        "      <th>sex</th>\n",
        "      <th>births</th>\n",
        "    </tr>\n",
        "  </thead>\n",
        "  <tbody>\n",
        "    <tr>\n",
        "      <th>0</th>\n",
        "      <td>      Mary</td>\n",
        "      <td> F</td>\n",
        "      <td> 7065</td>\n",
        "    </tr>\n",
        "    <tr>\n",
        "      <th>1</th>\n",
        "      <td>      Anna</td>\n",
        "      <td> F</td>\n",
        "      <td> 2604</td>\n",
        "    </tr>\n",
        "    <tr>\n",
        "      <th>2</th>\n",
        "      <td>      Emma</td>\n",
        "      <td> F</td>\n",
        "      <td> 2003</td>\n",
        "    </tr>\n",
        "    <tr>\n",
        "      <th>3</th>\n",
        "      <td> Elizabeth</td>\n",
        "      <td> F</td>\n",
        "      <td> 1939</td>\n",
        "    </tr>\n",
        "    <tr>\n",
        "      <th>4</th>\n",
        "      <td>    Minnie</td>\n",
        "      <td> F</td>\n",
        "      <td> 1746</td>\n",
        "    </tr>\n",
        "  </tbody>\n",
        "</table>\n",
        "<p>5 rows \u00d7 3 columns</p>\n",
        "</div>"
       ],
       "metadata": {},
       "output_type": "pyout",
       "prompt_number": 5,
       "text": [
        "        name sex  births\n",
        "0       Mary   F    7065\n",
        "1       Anna   F    2604\n",
        "2       Emma   F    2003\n",
        "3  Elizabeth   F    1939\n",
        "4     Minnie   F    1746\n",
        "\n",
        "[5 rows x 3 columns]"
       ]
      }
     ],
     "prompt_number": 5
    },
    {
     "cell_type": "code",
     "collapsed": false,
     "input": [
      "# how many females represented in the 1880 data?\n",
      "\n",
      "names1880[names1880.sex=='F']['births'].sum()"
     ],
     "language": "python",
     "metadata": {},
     "outputs": [
      {
       "metadata": {},
       "output_type": "pyout",
       "prompt_number": 6,
       "text": [
        "90993"
       ]
      }
     ],
     "prompt_number": 6
    },
    {
     "cell_type": "code",
     "collapsed": false,
     "input": [
      "# number of names in 1880 file\n",
      "\n",
      "len(names1880.groupby('name')) "
     ],
     "language": "python",
     "metadata": {},
     "outputs": [
      {
       "metadata": {},
       "output_type": "pyout",
       "prompt_number": 7,
       "text": [
        "1889"
       ]
      }
     ],
     "prompt_number": 7
    },
    {
     "cell_type": "code",
     "collapsed": false,
     "input": [
      "# group by name to find out which names are both M and F -- by looking at which names have more \n",
      "# than one sex represented.\n",
      "\n",
      "name_count = names1880.groupby('name').apply(lambda s: len(s))\n",
      "set(name_count[name_count > 1].index)"
     ],
     "language": "python",
     "metadata": {},
     "outputs": [
      {
       "metadata": {},
       "output_type": "pyout",
       "prompt_number": 8,
       "text": [
        "{'Addie',\n",
        " 'Allie',\n",
        " 'Alma',\n",
        " 'Alpha',\n",
        " 'Alva',\n",
        " 'Anna',\n",
        " 'Annie',\n",
        " 'Arthur',\n",
        " 'Artie',\n",
        " 'Augusta',\n",
        " 'Augustine',\n",
        " 'Bennie',\n",
        " 'Bertie',\n",
        " 'Bird',\n",
        " 'Carey',\n",
        " 'Carrie',\n",
        " 'Cecil',\n",
        " 'Charles',\n",
        " 'Clair',\n",
        " 'Clara',\n",
        " 'Clare',\n",
        " 'Clarence',\n",
        " 'Claude',\n",
        " 'Cleo',\n",
        " 'Clifford',\n",
        " 'Clyde',\n",
        " 'Connie',\n",
        " 'Cora',\n",
        " 'Daisy',\n",
        " 'Dee',\n",
        " 'Dell',\n",
        " 'Dora',\n",
        " 'Eddie',\n",
        " 'Edgar',\n",
        " 'Edith',\n",
        " 'Eliza',\n",
        " 'Elizabeth',\n",
        " 'Elsie',\n",
        " 'Emma',\n",
        " 'Erie',\n",
        " 'Ethel',\n",
        " 'Fay',\n",
        " 'Flora',\n",
        " 'Florence',\n",
        " 'Frances',\n",
        " 'Francis',\n",
        " 'Frank',\n",
        " 'Fred',\n",
        " 'Freddie',\n",
        " 'George',\n",
        " 'Glenn',\n",
        " 'Grace',\n",
        " 'Hallie',\n",
        " 'Harry',\n",
        " 'Hattie',\n",
        " 'Henry',\n",
        " 'Hope',\n",
        " 'Ida',\n",
        " 'Ira',\n",
        " 'Ivy',\n",
        " 'James',\n",
        " 'Jean',\n",
        " 'Jennie',\n",
        " 'Jesse',\n",
        " 'Jessie',\n",
        " 'Jewel',\n",
        " 'Jimmie',\n",
        " 'Joe',\n",
        " 'John',\n",
        " 'Johnnie',\n",
        " 'Joseph',\n",
        " 'June',\n",
        " 'Katherine',\n",
        " 'Lacy',\n",
        " 'Lee',\n",
        " 'Leo',\n",
        " 'Leslie',\n",
        " 'Lillie',\n",
        " 'Lonnie',\n",
        " 'Lou',\n",
        " 'Louie',\n",
        " 'Louis',\n",
        " 'Lynn',\n",
        " 'Marion',\n",
        " 'Mary',\n",
        " 'Mattie',\n",
        " 'Merle',\n",
        " 'Minnie',\n",
        " 'Myrtle',\n",
        " 'Nellie',\n",
        " 'Nora',\n",
        " 'Oda',\n",
        " 'Ollie',\n",
        " 'Ora',\n",
        " 'Ossie',\n",
        " 'Pearl',\n",
        " 'Ray',\n",
        " 'Robert',\n",
        " 'Rose',\n",
        " 'Ruby',\n",
        " 'Sammie',\n",
        " 'Shirley',\n",
        " 'Sidney',\n",
        " 'Theo',\n",
        " 'Thomas',\n",
        " 'Tommie',\n",
        " 'Vernie',\n",
        " 'Vivian',\n",
        " 'Walter',\n",
        " 'William',\n",
        " 'Willie'}"
       ]
      }
     ],
     "prompt_number": 8
    },
    {
     "cell_type": "code",
     "collapsed": false,
     "input": [
      "# number of births by sex for 1880\n",
      "\n",
      "names1880.groupby('sex').sum()"
     ],
     "language": "python",
     "metadata": {},
     "outputs": [
      {
       "html": [
        "<div style=\"max-height:1000px;max-width:1500px;overflow:auto;\">\n",
        "<table border=\"1\" class=\"dataframe\">\n",
        "  <thead>\n",
        "    <tr style=\"text-align: right;\">\n",
        "      <th></th>\n",
        "      <th>births</th>\n",
        "    </tr>\n",
        "    <tr>\n",
        "      <th>sex</th>\n",
        "      <th></th>\n",
        "    </tr>\n",
        "  </thead>\n",
        "  <tbody>\n",
        "    <tr>\n",
        "      <th>F</th>\n",
        "      <td>  90993</td>\n",
        "    </tr>\n",
        "    <tr>\n",
        "      <th>M</th>\n",
        "      <td> 110493</td>\n",
        "    </tr>\n",
        "  </tbody>\n",
        "</table>\n",
        "<p>2 rows \u00d7 1 columns</p>\n",
        "</div>"
       ],
       "metadata": {},
       "output_type": "pyout",
       "prompt_number": 9,
       "text": [
        "     births\n",
        "sex        \n",
        "F     90993\n",
        "M    110493\n",
        "\n",
        "[2 rows x 1 columns]"
       ]
      }
     ],
     "prompt_number": 9
    },
    {
     "cell_type": "code",
     "collapsed": false,
     "input": [
      "# total number of births in 1880\n",
      "\n",
      "names1880['births'].sum()"
     ],
     "language": "python",
     "metadata": {},
     "outputs": [
      {
       "metadata": {},
       "output_type": "pyout",
       "prompt_number": 10,
       "text": [
        "201486"
       ]
      }
     ],
     "prompt_number": 10
    },
    {
     "cell_type": "code",
     "collapsed": false,
     "input": [
      "# sort by number of births to get most popular names \n",
      "\n",
      "names1880.sort('births', ascending=False)[:10]"
     ],
     "language": "python",
     "metadata": {},
     "outputs": [
      {
       "html": [
        "<div style=\"max-height:1000px;max-width:1500px;overflow:auto;\">\n",
        "<table border=\"1\" class=\"dataframe\">\n",
        "  <thead>\n",
        "    <tr style=\"text-align: right;\">\n",
        "      <th></th>\n",
        "      <th>name</th>\n",
        "      <th>sex</th>\n",
        "      <th>births</th>\n",
        "    </tr>\n",
        "  </thead>\n",
        "  <tbody>\n",
        "    <tr>\n",
        "      <th>942</th>\n",
        "      <td>    John</td>\n",
        "      <td> M</td>\n",
        "      <td> 9655</td>\n",
        "    </tr>\n",
        "    <tr>\n",
        "      <th>943</th>\n",
        "      <td> William</td>\n",
        "      <td> M</td>\n",
        "      <td> 9533</td>\n",
        "    </tr>\n",
        "    <tr>\n",
        "      <th>0  </th>\n",
        "      <td>    Mary</td>\n",
        "      <td> F</td>\n",
        "      <td> 7065</td>\n",
        "    </tr>\n",
        "    <tr>\n",
        "      <th>944</th>\n",
        "      <td>   James</td>\n",
        "      <td> M</td>\n",
        "      <td> 5927</td>\n",
        "    </tr>\n",
        "    <tr>\n",
        "      <th>945</th>\n",
        "      <td> Charles</td>\n",
        "      <td> M</td>\n",
        "      <td> 5348</td>\n",
        "    </tr>\n",
        "    <tr>\n",
        "      <th>946</th>\n",
        "      <td>  George</td>\n",
        "      <td> M</td>\n",
        "      <td> 5126</td>\n",
        "    </tr>\n",
        "    <tr>\n",
        "      <th>947</th>\n",
        "      <td>   Frank</td>\n",
        "      <td> M</td>\n",
        "      <td> 3242</td>\n",
        "    </tr>\n",
        "    <tr>\n",
        "      <th>948</th>\n",
        "      <td>  Joseph</td>\n",
        "      <td> M</td>\n",
        "      <td> 2632</td>\n",
        "    </tr>\n",
        "    <tr>\n",
        "      <th>1  </th>\n",
        "      <td>    Anna</td>\n",
        "      <td> F</td>\n",
        "      <td> 2604</td>\n",
        "    </tr>\n",
        "    <tr>\n",
        "      <th>949</th>\n",
        "      <td>  Thomas</td>\n",
        "      <td> M</td>\n",
        "      <td> 2534</td>\n",
        "    </tr>\n",
        "  </tbody>\n",
        "</table>\n",
        "<p>10 rows \u00d7 3 columns</p>\n",
        "</div>"
       ],
       "metadata": {},
       "output_type": "pyout",
       "prompt_number": 11,
       "text": [
        "        name sex  births\n",
        "942     John   M    9655\n",
        "943  William   M    9533\n",
        "0       Mary   F    7065\n",
        "944    James   M    5927\n",
        "945  Charles   M    5348\n",
        "946   George   M    5126\n",
        "947    Frank   M    3242\n",
        "948   Joseph   M    2632\n",
        "1       Anna   F    2604\n",
        "949   Thomas   M    2534\n",
        "\n",
        "[10 rows x 3 columns]"
       ]
      }
     ],
     "prompt_number": 11
    },
    {
     "cell_type": "code",
     "collapsed": false,
     "input": [
      "# most popular female names\n",
      "\n",
      "names1880[names1880.sex == 'F'].sort('births', ascending=False)[:10]"
     ],
     "language": "python",
     "metadata": {},
     "outputs": [
      {
       "html": [
        "<div style=\"max-height:1000px;max-width:1500px;overflow:auto;\">\n",
        "<table border=\"1\" class=\"dataframe\">\n",
        "  <thead>\n",
        "    <tr style=\"text-align: right;\">\n",
        "      <th></th>\n",
        "      <th>name</th>\n",
        "      <th>sex</th>\n",
        "      <th>births</th>\n",
        "    </tr>\n",
        "  </thead>\n",
        "  <tbody>\n",
        "    <tr>\n",
        "      <th>0</th>\n",
        "      <td>      Mary</td>\n",
        "      <td> F</td>\n",
        "      <td> 7065</td>\n",
        "    </tr>\n",
        "    <tr>\n",
        "      <th>1</th>\n",
        "      <td>      Anna</td>\n",
        "      <td> F</td>\n",
        "      <td> 2604</td>\n",
        "    </tr>\n",
        "    <tr>\n",
        "      <th>2</th>\n",
        "      <td>      Emma</td>\n",
        "      <td> F</td>\n",
        "      <td> 2003</td>\n",
        "    </tr>\n",
        "    <tr>\n",
        "      <th>3</th>\n",
        "      <td> Elizabeth</td>\n",
        "      <td> F</td>\n",
        "      <td> 1939</td>\n",
        "    </tr>\n",
        "    <tr>\n",
        "      <th>4</th>\n",
        "      <td>    Minnie</td>\n",
        "      <td> F</td>\n",
        "      <td> 1746</td>\n",
        "    </tr>\n",
        "    <tr>\n",
        "      <th>5</th>\n",
        "      <td>  Margaret</td>\n",
        "      <td> F</td>\n",
        "      <td> 1578</td>\n",
        "    </tr>\n",
        "    <tr>\n",
        "      <th>6</th>\n",
        "      <td>       Ida</td>\n",
        "      <td> F</td>\n",
        "      <td> 1472</td>\n",
        "    </tr>\n",
        "    <tr>\n",
        "      <th>7</th>\n",
        "      <td>     Alice</td>\n",
        "      <td> F</td>\n",
        "      <td> 1414</td>\n",
        "    </tr>\n",
        "    <tr>\n",
        "      <th>8</th>\n",
        "      <td>    Bertha</td>\n",
        "      <td> F</td>\n",
        "      <td> 1320</td>\n",
        "    </tr>\n",
        "    <tr>\n",
        "      <th>9</th>\n",
        "      <td>     Sarah</td>\n",
        "      <td> F</td>\n",
        "      <td> 1288</td>\n",
        "    </tr>\n",
        "  </tbody>\n",
        "</table>\n",
        "<p>10 rows \u00d7 3 columns</p>\n",
        "</div>"
       ],
       "metadata": {},
       "output_type": "pyout",
       "prompt_number": 12,
       "text": [
        "        name sex  births\n",
        "0       Mary   F    7065\n",
        "1       Anna   F    2604\n",
        "2       Emma   F    2003\n",
        "3  Elizabeth   F    1939\n",
        "4     Minnie   F    1746\n",
        "5   Margaret   F    1578\n",
        "6        Ida   F    1472\n",
        "7      Alice   F    1414\n",
        "8     Bertha   F    1320\n",
        "9      Sarah   F    1288\n",
        "\n",
        "[10 rows x 3 columns]"
       ]
      }
     ],
     "prompt_number": 12
    },
    {
     "cell_type": "code",
     "collapsed": false,
     "input": [
      "# try out seaborn if you want\n",
      "#import seaborn as sns"
     ],
     "language": "python",
     "metadata": {},
     "outputs": [],
     "prompt_number": 16
    },
    {
     "cell_type": "code",
     "collapsed": false,
     "input": [
      "num_names1880 = len(names1880['births'].order(ascending=False))\n",
      "plt.plot(np.arange(num_names1880), names1880['births'].order(ascending=False), 'ro', ms=1)\n",
      "plt.yscale('log')\n",
      "plt.xlabel('order of name')\n",
      "plt.ylabel('number of babies')"
     ],
     "language": "python",
     "metadata": {},
     "outputs": [
      {
       "metadata": {},
       "output_type": "pyout",
       "prompt_number": 14,
       "text": [
        "<matplotlib.text.Text at 0x793f7b0>"
       ]
      },
      {
       "metadata": {},
       "output_type": "display_data",
       "png": "[encoded data removed]",
       "text": [
        "<matplotlib.figure.Figure at 0x7944e10>"
       ]
      }
     ],
     "prompt_number": 14
    },
    {
     "cell_type": "heading",
     "level": 1,
     "metadata": {},
     "source": [
      "Loading all data into Pandas"
     ]
    },
    {
     "cell_type": "code",
     "collapsed": false,
     "input": [
      "!ls $NAMES_DIR"
     ],
     "language": "python",
     "metadata": {},
     "outputs": [
      {
       "output_type": "stream",
       "stream": "stdout",
       "text": [
        "NationalReadMe.pdf yob1896.txt        yob1913.txt        yob1930.txt        yob1947.txt        yob1964.txt        yob1981.txt        yob1998.txt\r\n",
        "yob1880.txt        yob1897.txt        yob1914.txt        yob1931.txt        yob1948.txt        yob1965.txt        yob1982.txt        yob1999.txt\r\n",
        "yob1881.txt        yob1898.txt        yob1915.txt        yob1932.txt        yob1949.txt        yob1966.txt        yob1983.txt        yob2000.txt\r\n",
        "yob1882.txt        yob1899.txt        yob1916.txt        yob1933.txt        yob1950.txt        yob1967.txt        yob1984.txt        yob2001.txt\r\n",
        "yob1883.txt        yob1900.txt        yob1917.txt        yob1934.txt        yob1951.txt        yob1968.txt        yob1985.txt        yob2002.txt\r\n",
        "yob1884.txt        yob1901.txt        yob1918.txt        yob1935.txt        yob1952.txt        yob1969.txt        yob1986.txt        yob2003.txt\r\n",
        "yob1885.txt        yob1902.txt        yob1919.txt        yob1936.txt        yob1953.txt        yob1970.txt        yob1987.txt        yob2004.txt\r\n",
        "yob1886.txt        yob1903.txt        yob1920.txt        yob1937.txt        yob1954.txt        yob1971.txt        yob1988.txt        yob2005.txt\r\n",
        "yob1887.txt        yob1904.txt        yob1921.txt        yob1938.txt        yob1955.txt        yob1972.txt        yob1989.txt        yob2006.txt\r\n",
        "yob1888.txt        yob1905.txt        yob1922.txt        yob1939.txt        yob1956.txt        yob1973.txt        yob1990.txt        yob2007.txt\r\n",
        "yob1889.txt        yob1906.txt        yob1923.txt        yob1940.txt        yob1957.txt        yob1974.txt        yob1991.txt        yob2008.txt\r\n",
        "yob1890.txt        yob1907.txt        yob1924.txt        yob1941.txt        yob1958.txt        yob1975.txt        yob1992.txt        yob2009.txt\r\n",
        "yob1891.txt        yob1908.txt        yob1925.txt        yob1942.txt        yob1959.txt        yob1976.txt        yob1993.txt        yob2010.txt\r\n",
        "yob1892.txt        yob1909.txt        yob1926.txt        yob1943.txt        yob1960.txt        yob1977.txt        yob1994.txt\r\n",
        "yob1893.txt        yob1910.txt        yob1927.txt        yob1944.txt        yob1961.txt        yob1978.txt        yob1995.txt\r\n",
        "yob1894.txt        yob1911.txt        yob1928.txt        yob1945.txt        yob1962.txt        yob1979.txt        yob1996.txt\r\n",
        "yob1895.txt        yob1912.txt        yob1929.txt        yob1946.txt        yob1963.txt        yob1980.txt        yob1997.txt\r\n"
       ]
      }
     ],
     "prompt_number": 17
    },
    {
     "cell_type": "code",
     "collapsed": false,
     "input": [
      "# 2010 is the last available year in the pydata-book repo\n",
      "import os\n",
      "\n",
      "years = range(1880, 2011)\n",
      "\n",
      "pieces = []\n",
      "columns = ['name', 'sex', 'births']\n",
      "\n",
      "for year in years:\n",
      "    path = os.path.join(NAMES_DIR, 'yob%d.txt' % year)\n",
      "    frame = pd.read_csv(path, names=columns)\n",
      "\n",
      "    frame['year'] = year\n",
      "    pieces.append(frame)\n",
      "\n",
      "# Concatenate everything into a single DataFrame\n",
      "names = pd.concat(pieces, ignore_index=True)\n",
      "\n",
      "# why floats?  I'm not sure.\n",
      "names.describe()"
     ],
     "language": "python",
     "metadata": {},
     "outputs": [
      {
       "html": [
        "<div style=\"max-height:1000px;max-width:1500px;overflow:auto;\">\n",
        "<table border=\"1\" class=\"dataframe\">\n",
        "  <thead>\n",
        "    <tr style=\"text-align: right;\">\n",
        "      <th></th>\n",
        "      <th>births</th>\n",
        "      <th>year</th>\n",
        "    </tr>\n",
        "  </thead>\n",
        "  <tbody>\n",
        "    <tr>\n",
        "      <th>count</th>\n",
        "      <td> 1690784.000000</td>\n",
        "      <td> 1690784.000000</td>\n",
        "    </tr>\n",
        "    <tr>\n",
        "      <th>mean</th>\n",
        "      <td>     190.682386</td>\n",
        "      <td>    1969.454384</td>\n",
        "    </tr>\n",
        "    <tr>\n",
        "      <th>std</th>\n",
        "      <td>    1615.899711</td>\n",
        "      <td>      32.823526</td>\n",
        "    </tr>\n",
        "    <tr>\n",
        "      <th>min</th>\n",
        "      <td>       5.000000</td>\n",
        "      <td>    1880.000000</td>\n",
        "    </tr>\n",
        "    <tr>\n",
        "      <th>25%</th>\n",
        "      <td>       7.000000</td>\n",
        "      <td>    1946.000000</td>\n",
        "    </tr>\n",
        "    <tr>\n",
        "      <th>50%</th>\n",
        "      <td>      12.000000</td>\n",
        "      <td>    1979.000000</td>\n",
        "    </tr>\n",
        "    <tr>\n",
        "      <th>75%</th>\n",
        "      <td>      32.000000</td>\n",
        "      <td>    1997.000000</td>\n",
        "    </tr>\n",
        "    <tr>\n",
        "      <th>max</th>\n",
        "      <td>   99651.000000</td>\n",
        "      <td>    2010.000000</td>\n",
        "    </tr>\n",
        "  </tbody>\n",
        "</table>\n",
        "<p>8 rows \u00d7 2 columns</p>\n",
        "</div>"
       ],
       "metadata": {},
       "output_type": "pyout",
       "prompt_number": 18,
       "text": [
        "               births            year\n",
        "count  1690784.000000  1690784.000000\n",
        "mean       190.682386     1969.454384\n",
        "std       1615.899711       32.823526\n",
        "min          5.000000     1880.000000\n",
        "25%          7.000000     1946.000000\n",
        "50%         12.000000     1979.000000\n",
        "75%         32.000000     1997.000000\n",
        "max      99651.000000     2010.000000\n",
        "\n",
        "[8 rows x 2 columns]"
       ]
      }
     ],
     "prompt_number": 18
    },
    {
     "cell_type": "code",
     "collapsed": false,
     "input": [
      "# how many people, names, males and females  represented in names?\n",
      "\n",
      "names.births.sum()"
     ],
     "language": "python",
     "metadata": {},
     "outputs": [
      {
       "metadata": {},
       "output_type": "pyout",
       "prompt_number": 19,
       "text": [
        "322402727"
       ]
      }
     ],
     "prompt_number": 19
    },
    {
     "cell_type": "code",
     "collapsed": false,
     "input": [
      "# F vs M\n",
      "\n",
      "names.groupby('sex')['births'].sum()"
     ],
     "language": "python",
     "metadata": {},
     "outputs": [
      {
       "metadata": {},
       "output_type": "pyout",
       "prompt_number": 20,
       "text": [
        "sex\n",
        "F      159990140\n",
        "M      162412587\n",
        "Name: births, dtype: int64"
       ]
      }
     ],
     "prompt_number": 20
    },
    {
     "cell_type": "code",
     "collapsed": false,
     "input": [
      "# total number of names\n",
      "\n",
      "len(names.groupby('name'))"
     ],
     "language": "python",
     "metadata": {},
     "outputs": [
      {
       "metadata": {},
       "output_type": "pyout",
       "prompt_number": 21,
       "text": [
        "88496"
       ]
      }
     ],
     "prompt_number": 21
    },
    {
     "cell_type": "code",
     "collapsed": false,
     "input": [
      "# use pivot_table to collect records by year (rows) and sex (columns)\n",
      "\n",
      "total_births = names.pivot_table('births', rows='year', cols='sex', aggfunc=sum)\n",
      "total_births.head()"
     ],
     "language": "python",
     "metadata": {},
     "outputs": [
      {
       "html": [
        "<div style=\"max-height:1000px;max-width:1500px;overflow:auto;\">\n",
        "<table border=\"1\" class=\"dataframe\">\n",
        "  <thead>\n",
        "    <tr style=\"text-align: right;\">\n",
        "      <th>sex</th>\n",
        "      <th>F</th>\n",
        "      <th>M</th>\n",
        "    </tr>\n",
        "    <tr>\n",
        "      <th>year</th>\n",
        "      <th></th>\n",
        "      <th></th>\n",
        "    </tr>\n",
        "  </thead>\n",
        "  <tbody>\n",
        "    <tr>\n",
        "      <th>1880</th>\n",
        "      <td>  90993</td>\n",
        "      <td> 110493</td>\n",
        "    </tr>\n",
        "    <tr>\n",
        "      <th>1881</th>\n",
        "      <td>  91955</td>\n",
        "      <td> 100748</td>\n",
        "    </tr>\n",
        "    <tr>\n",
        "      <th>1882</th>\n",
        "      <td> 107851</td>\n",
        "      <td> 113687</td>\n",
        "    </tr>\n",
        "    <tr>\n",
        "      <th>1883</th>\n",
        "      <td> 112322</td>\n",
        "      <td> 104632</td>\n",
        "    </tr>\n",
        "    <tr>\n",
        "      <th>1884</th>\n",
        "      <td> 129021</td>\n",
        "      <td> 114445</td>\n",
        "    </tr>\n",
        "  </tbody>\n",
        "</table>\n",
        "<p>5 rows \u00d7 2 columns</p>\n",
        "</div>"
       ],
       "metadata": {},
       "output_type": "pyout",
       "prompt_number": 22,
       "text": [
        "sex        F       M\n",
        "year                \n",
        "1880   90993  110493\n",
        "1881   91955  100748\n",
        "1882  107851  113687\n",
        "1883  112322  104632\n",
        "1884  129021  114445\n",
        "\n",
        "[5 rows x 2 columns]"
       ]
      }
     ],
     "prompt_number": 22
    },
    {
     "cell_type": "code",
     "collapsed": false,
     "input": [
      "# You can use groupy to get equivalent pivot_table calculation\n",
      "\n",
      "names.groupby('year').apply(lambda s: s.groupby('sex').agg('sum')).unstack()['births']"
     ],
     "language": "python",
     "metadata": {},
     "outputs": [
      {
       "html": [
        "<div style=\"max-height:1000px;max-width:1500px;overflow:auto;\">\n",
        "<table border=\"1\" class=\"dataframe\">\n",
        "  <thead>\n",
        "    <tr style=\"text-align: right;\">\n",
        "      <th>sex</th>\n",
        "      <th>F</th>\n",
        "      <th>M</th>\n",
        "    </tr>\n",
        "    <tr>\n",
        "      <th>year</th>\n",
        "      <th></th>\n",
        "      <th></th>\n",
        "    </tr>\n",
        "  </thead>\n",
        "  <tbody>\n",
        "    <tr>\n",
        "      <th>1880</th>\n",
        "      <td>   90993</td>\n",
        "      <td>  110493</td>\n",
        "    </tr>\n",
        "    <tr>\n",
        "      <th>1881</th>\n",
        "      <td>   91955</td>\n",
        "      <td>  100748</td>\n",
        "    </tr>\n",
        "    <tr>\n",
        "      <th>1882</th>\n",
        "      <td>  107851</td>\n",
        "      <td>  113687</td>\n",
        "    </tr>\n",
        "    <tr>\n",
        "      <th>1883</th>\n",
        "      <td>  112322</td>\n",
        "      <td>  104632</td>\n",
        "    </tr>\n",
        "    <tr>\n",
        "      <th>1884</th>\n",
        "      <td>  129021</td>\n",
        "      <td>  114445</td>\n",
        "    </tr>\n",
        "    <tr>\n",
        "      <th>1885</th>\n",
        "      <td>  133056</td>\n",
        "      <td>  107802</td>\n",
        "    </tr>\n",
        "    <tr>\n",
        "      <th>1886</th>\n",
        "      <td>  144538</td>\n",
        "      <td>  110785</td>\n",
        "    </tr>\n",
        "    <tr>\n",
        "      <th>1887</th>\n",
        "      <td>  145983</td>\n",
        "      <td>  101412</td>\n",
        "    </tr>\n",
        "    <tr>\n",
        "      <th>1888</th>\n",
        "      <td>  178631</td>\n",
        "      <td>  120857</td>\n",
        "    </tr>\n",
        "    <tr>\n",
        "      <th>1889</th>\n",
        "      <td>  178369</td>\n",
        "      <td>  110590</td>\n",
        "    </tr>\n",
        "    <tr>\n",
        "      <th>1890</th>\n",
        "      <td>  190377</td>\n",
        "      <td>  111026</td>\n",
        "    </tr>\n",
        "    <tr>\n",
        "      <th>1891</th>\n",
        "      <td>  185486</td>\n",
        "      <td>  101198</td>\n",
        "    </tr>\n",
        "    <tr>\n",
        "      <th>1892</th>\n",
        "      <td>  212350</td>\n",
        "      <td>  122038</td>\n",
        "    </tr>\n",
        "    <tr>\n",
        "      <th>1893</th>\n",
        "      <td>  212908</td>\n",
        "      <td>  112319</td>\n",
        "    </tr>\n",
        "    <tr>\n",
        "      <th>1894</th>\n",
        "      <td>  222923</td>\n",
        "      <td>  115775</td>\n",
        "    </tr>\n",
        "    <tr>\n",
        "      <th>1895</th>\n",
        "      <td>  233632</td>\n",
        "      <td>  117398</td>\n",
        "    </tr>\n",
        "    <tr>\n",
        "      <th>1896</th>\n",
        "      <td>  237924</td>\n",
        "      <td>  119575</td>\n",
        "    </tr>\n",
        "    <tr>\n",
        "      <th>1897</th>\n",
        "      <td>  234199</td>\n",
        "      <td>  112760</td>\n",
        "    </tr>\n",
        "    <tr>\n",
        "      <th>1898</th>\n",
        "      <td>  258771</td>\n",
        "      <td>  122703</td>\n",
        "    </tr>\n",
        "    <tr>\n",
        "      <th>1899</th>\n",
        "      <td>  233022</td>\n",
        "      <td>  106218</td>\n",
        "    </tr>\n",
        "    <tr>\n",
        "      <th>1900</th>\n",
        "      <td>  299873</td>\n",
        "      <td>  150554</td>\n",
        "    </tr>\n",
        "    <tr>\n",
        "      <th>1901</th>\n",
        "      <td>  239351</td>\n",
        "      <td>  106478</td>\n",
        "    </tr>\n",
        "    <tr>\n",
        "      <th>1902</th>\n",
        "      <td>  264079</td>\n",
        "      <td>  122660</td>\n",
        "    </tr>\n",
        "    <tr>\n",
        "      <th>1903</th>\n",
        "      <td>  261976</td>\n",
        "      <td>  119240</td>\n",
        "    </tr>\n",
        "    <tr>\n",
        "      <th>1904</th>\n",
        "      <td>  275375</td>\n",
        "      <td>  128129</td>\n",
        "    </tr>\n",
        "    <tr>\n",
        "      <th>1905</th>\n",
        "      <td>  291641</td>\n",
        "      <td>  132319</td>\n",
        "    </tr>\n",
        "    <tr>\n",
        "      <th>1906</th>\n",
        "      <td>  295301</td>\n",
        "      <td>  133159</td>\n",
        "    </tr>\n",
        "    <tr>\n",
        "      <th>1907</th>\n",
        "      <td>  318558</td>\n",
        "      <td>  146838</td>\n",
        "    </tr>\n",
        "    <tr>\n",
        "      <th>1908</th>\n",
        "      <td>  334277</td>\n",
        "      <td>  154339</td>\n",
        "    </tr>\n",
        "    <tr>\n",
        "      <th>1909</th>\n",
        "      <td>  347191</td>\n",
        "      <td>  163983</td>\n",
        "    </tr>\n",
        "    <tr>\n",
        "      <th>1910</th>\n",
        "      <td>  396416</td>\n",
        "      <td>  194198</td>\n",
        "    </tr>\n",
        "    <tr>\n",
        "      <th>1911</th>\n",
        "      <td>  418180</td>\n",
        "      <td>  225936</td>\n",
        "    </tr>\n",
        "    <tr>\n",
        "      <th>1912</th>\n",
        "      <td>  557939</td>\n",
        "      <td>  429926</td>\n",
        "    </tr>\n",
        "    <tr>\n",
        "      <th>1913</th>\n",
        "      <td>  624317</td>\n",
        "      <td>  512482</td>\n",
        "    </tr>\n",
        "    <tr>\n",
        "      <th>1914</th>\n",
        "      <td>  761376</td>\n",
        "      <td>  654746</td>\n",
        "    </tr>\n",
        "    <tr>\n",
        "      <th>1915</th>\n",
        "      <td>  983824</td>\n",
        "      <td>  848647</td>\n",
        "    </tr>\n",
        "    <tr>\n",
        "      <th>1916</th>\n",
        "      <td> 1044249</td>\n",
        "      <td>  890142</td>\n",
        "    </tr>\n",
        "    <tr>\n",
        "      <th>1917</th>\n",
        "      <td> 1081194</td>\n",
        "      <td>  925512</td>\n",
        "    </tr>\n",
        "    <tr>\n",
        "      <th>1918</th>\n",
        "      <td> 1157585</td>\n",
        "      <td> 1013720</td>\n",
        "    </tr>\n",
        "    <tr>\n",
        "      <th>1919</th>\n",
        "      <td> 1130149</td>\n",
        "      <td>  980215</td>\n",
        "    </tr>\n",
        "    <tr>\n",
        "      <th>1920</th>\n",
        "      <td> 1198214</td>\n",
        "      <td> 1064468</td>\n",
        "    </tr>\n",
        "    <tr>\n",
        "      <th>1921</th>\n",
        "      <td> 1232845</td>\n",
        "      <td> 1101374</td>\n",
        "    </tr>\n",
        "    <tr>\n",
        "      <th>1922</th>\n",
        "      <td> 1200796</td>\n",
        "      <td> 1088380</td>\n",
        "    </tr>\n",
        "    <tr>\n",
        "      <th>1923</th>\n",
        "      <td> 1206239</td>\n",
        "      <td> 1096227</td>\n",
        "    </tr>\n",
        "    <tr>\n",
        "      <th>1924</th>\n",
        "      <td> 1248821</td>\n",
        "      <td> 1132671</td>\n",
        "    </tr>\n",
        "    <tr>\n",
        "      <th>1925</th>\n",
        "      <td> 1217217</td>\n",
        "      <td> 1115798</td>\n",
        "    </tr>\n",
        "    <tr>\n",
        "      <th>1926</th>\n",
        "      <td> 1185078</td>\n",
        "      <td> 1110440</td>\n",
        "    </tr>\n",
        "    <tr>\n",
        "      <th>1927</th>\n",
        "      <td> 1192207</td>\n",
        "      <td> 1126259</td>\n",
        "    </tr>\n",
        "    <tr>\n",
        "      <th>1928</th>\n",
        "      <td> 1152836</td>\n",
        "      <td> 1107113</td>\n",
        "    </tr>\n",
        "    <tr>\n",
        "      <th>1929</th>\n",
        "      <td> 1116284</td>\n",
        "      <td> 1074833</td>\n",
        "    </tr>\n",
        "    <tr>\n",
        "      <th>1930</th>\n",
        "      <td> 1125521</td>\n",
        "      <td> 1096663</td>\n",
        "    </tr>\n",
        "    <tr>\n",
        "      <th>1931</th>\n",
        "      <td> 1064233</td>\n",
        "      <td> 1038586</td>\n",
        "    </tr>\n",
        "    <tr>\n",
        "      <th>1932</th>\n",
        "      <td> 1066930</td>\n",
        "      <td> 1043512</td>\n",
        "    </tr>\n",
        "    <tr>\n",
        "      <th>1933</th>\n",
        "      <td> 1007523</td>\n",
        "      <td>  990677</td>\n",
        "    </tr>\n",
        "    <tr>\n",
        "      <th>1934</th>\n",
        "      <td> 1043879</td>\n",
        "      <td> 1031962</td>\n",
        "    </tr>\n",
        "    <tr>\n",
        "      <th>1935</th>\n",
        "      <td> 1048264</td>\n",
        "      <td> 1040649</td>\n",
        "    </tr>\n",
        "    <tr>\n",
        "      <th>1936</th>\n",
        "      <td> 1040068</td>\n",
        "      <td> 1036662</td>\n",
        "    </tr>\n",
        "    <tr>\n",
        "      <th>1937</th>\n",
        "      <td> 1063722</td>\n",
        "      <td> 1065964</td>\n",
        "    </tr>\n",
        "    <tr>\n",
        "      <th>1938</th>\n",
        "      <td> 1103173</td>\n",
        "      <td> 1108480</td>\n",
        "    </tr>\n",
        "    <tr>\n",
        "      <th>1939</th>\n",
        "      <td> 1096394</td>\n",
        "      <td> 1106328</td>\n",
        "    </tr>\n",
        "    <tr>\n",
        "      <th></th>\n",
        "      <td>...</td>\n",
        "      <td>...</td>\n",
        "    </tr>\n",
        "  </tbody>\n",
        "</table>\n",
        "<p>131 rows \u00d7 2 columns</p>\n",
        "</div>"
       ],
       "metadata": {},
       "output_type": "pyout",
       "prompt_number": 23,
       "text": [
        "sex         F        M\n",
        "year                  \n",
        "1880    90993   110493\n",
        "1881    91955   100748\n",
        "1882   107851   113687\n",
        "1883   112322   104632\n",
        "1884   129021   114445\n",
        "1885   133056   107802\n",
        "1886   144538   110785\n",
        "1887   145983   101412\n",
        "1888   178631   120857\n",
        "1889   178369   110590\n",
        "1890   190377   111026\n",
        "1891   185486   101198\n",
        "1892   212350   122038\n",
        "1893   212908   112319\n",
        "1894   222923   115775\n",
        "1895   233632   117398\n",
        "1896   237924   119575\n",
        "1897   234199   112760\n",
        "1898   258771   122703\n",
        "1899   233022   106218\n",
        "1900   299873   150554\n",
        "1901   239351   106478\n",
        "1902   264079   122660\n",
        "1903   261976   119240\n",
        "1904   275375   128129\n",
        "1905   291641   132319\n",
        "1906   295301   133159\n",
        "1907   318558   146838\n",
        "1908   334277   154339\n",
        "1909   347191   163983\n",
        "1910   396416   194198\n",
        "1911   418180   225936\n",
        "1912   557939   429926\n",
        "1913   624317   512482\n",
        "1914   761376   654746\n",
        "1915   983824   848647\n",
        "1916  1044249   890142\n",
        "1917  1081194   925512\n",
        "1918  1157585  1013720\n",
        "1919  1130149   980215\n",
        "1920  1198214  1064468\n",
        "1921  1232845  1101374\n",
        "1922  1200796  1088380\n",
        "1923  1206239  1096227\n",
        "1924  1248821  1132671\n",
        "1925  1217217  1115798\n",
        "1926  1185078  1110440\n",
        "1927  1192207  1126259\n",
        "1928  1152836  1107113\n",
        "1929  1116284  1074833\n",
        "1930  1125521  1096663\n",
        "1931  1064233  1038586\n",
        "1932  1066930  1043512\n",
        "1933  1007523   990677\n",
        "1934  1043879  1031962\n",
        "1935  1048264  1040649\n",
        "1936  1040068  1036662\n",
        "1937  1063722  1065964\n",
        "1938  1103173  1108480\n",
        "1939  1096394  1106328\n",
        "          ...      ...\n",
        "\n",
        "[131 rows x 2 columns]"
       ]
      }
     ],
     "prompt_number": 23
    },
    {
     "cell_type": "code",
     "collapsed": false,
     "input": [
      "# how to calculate the total births / year\n",
      "\n",
      "names.groupby('year').sum().plot(title=\"total births by year\")"
     ],
     "language": "python",
     "metadata": {},
     "outputs": [
      {
       "metadata": {},
       "output_type": "pyout",
       "prompt_number": 24,
       "text": [
        "<matplotlib.axes.AxesSubplot at 0xf5e8b50>"
       ]
      },
      {
       "metadata": {},
       "output_type": "display_data",
       "png": "[encoded data removed]",
       "text": [
        "<matplotlib.figure.Figure at 0xf5e8610>"
       ]
      }
     ],
     "prompt_number": 24
    },
    {
     "cell_type": "code",
     "collapsed": false,
     "input": [
      "names.groupby('year').apply(lambda s: s.groupby('sex').agg('sum')).unstack()['births'].plot(title=\"births (M/F) by year\")"
     ],
     "language": "python",
     "metadata": {},
     "outputs": [
      {
       "metadata": {},
       "output_type": "pyout",
       "prompt_number": 25,
       "text": [
        "<matplotlib.axes.AxesSubplot at 0xd731c30>"
       ]
      },
      {
       "metadata": {},
       "output_type": "display_data",
       "png": "[encoded data removed]",
       "text": [
        "<matplotlib.figure.Figure at 0x7738bf0>"
       ]
      }
     ],
     "prompt_number": 25
    },
    {
     "cell_type": "code",
     "collapsed": false,
     "input": [
      "# number of names in 1880\n",
      "#names.groupby('year').apply(lambda s: s.groupby('name').agg('count'))\n",
      "#len(names1880.groupby('name').agg('count'))\n",
      "len(names1880.groupby('name'))"
     ],
     "language": "python",
     "metadata": {},
     "outputs": [
      {
       "metadata": {},
       "output_type": "pyout",
       "prompt_number": 26,
       "text": [
        "1889"
       ]
      }
     ],
     "prompt_number": 26
    },
    {
     "cell_type": "code",
     "collapsed": false,
     "input": [
      "# can groupby more than one column\n",
      "# 131 years x 2 sexes\n",
      "\n",
      "len(names.groupby(['year', 'sex']))"
     ],
     "language": "python",
     "metadata": {},
     "outputs": [
      {
       "metadata": {},
       "output_type": "pyout",
       "prompt_number": 27,
       "text": [
        "262"
       ]
      }
     ],
     "prompt_number": 27
    },
    {
     "cell_type": "code",
     "collapsed": false,
     "input": [
      "# how many combo of name x year\n",
      "\n",
      "len(names.groupby(['name','year']))"
     ],
     "language": "python",
     "metadata": {},
     "outputs": [
      {
       "metadata": {},
       "output_type": "pyout",
       "prompt_number": 28,
       "text": [
        "1540017"
       ]
      }
     ],
     "prompt_number": 28
    },
    {
     "cell_type": "code",
     "collapsed": false,
     "input": [
      "# from book: add prop to names\n",
      "\n",
      "def add_prop(group):\n",
      "    # Integer division floors\n",
      "    births = group.births.astype(float)\n",
      "\n",
      "    group['prop'] = births / births.sum()\n",
      "    return group\n",
      "\n",
      "names = names.groupby(['year', 'sex']).apply(add_prop)\n"
     ],
     "language": "python",
     "metadata": {},
     "outputs": []
    },
    {
     "cell_type": "code",
     "collapsed": false,
     "input": [
      "# verify prop --> all adds up to 1\n",
      "\n",
      "np.allclose(names.groupby(['year', 'sex']).prop.sum(), 1)"
     ],
     "language": "python",
     "metadata": {},
     "outputs": []
    },
    {
     "cell_type": "code",
     "collapsed": false,
     "input": [
      "# number of records in full names dataframe\n",
      "\n",
      "len(names)"
     ],
     "language": "python",
     "metadata": {},
     "outputs": []
    },
    {
     "cell_type": "code",
     "collapsed": false,
     "input": [
      "#  from book: useful to work with top 1000 for each year/sex combo\n",
      "# can use groupby/apply\n",
      "\n",
      "names.groupby(['year', 'sex']).apply(lambda g: g.sort_index(by='births', ascending=False)[:1000])"
     ],
     "language": "python",
     "metadata": {},
     "outputs": []
    },
    {
     "cell_type": "code",
     "collapsed": false,
     "input": [
      "def get_top1000(group):\n",
      "    return group.sort_index(by='births', ascending=False)[:1000]\n",
      "\n",
      "grouped = names.groupby(['year', 'sex'])\n",
      "top1000 = grouped.apply(get_top1000)\n",
      "top1000.head()"
     ],
     "language": "python",
     "metadata": {},
     "outputs": []
    },
    {
     "cell_type": "code",
     "collapsed": false,
     "input": [
      "# Do pivot table: row: year and cols= names for top 1000\n",
      "\n",
      "top_births = top1000.pivot_table('births', rows='year', cols='name', aggfunc=np.sum)\n",
      "top_births.tail()"
     ],
     "language": "python",
     "metadata": {},
     "outputs": []
    },
    {
     "cell_type": "code",
     "collapsed": false,
     "input": [
      "# is your name in the top_births list?\n",
      "\n",
      "top_births['Raymond'].plot(title='plot for Raymond')"
     ],
     "language": "python",
     "metadata": {},
     "outputs": []
    },
    {
     "cell_type": "code",
     "collapsed": false,
     "input": [
      "# for Aaden, which shows up at the end\n",
      "\n",
      "top_births.Aaden.plot(xlim=[1880,2010])"
     ],
     "language": "python",
     "metadata": {},
     "outputs": []
    },
    {
     "cell_type": "code",
     "collapsed": false,
     "input": [
      "# number of names represented in top_births\n",
      "\n",
      "len(top_births.columns)"
     ],
     "language": "python",
     "metadata": {},
     "outputs": []
    },
    {
     "cell_type": "code",
     "collapsed": false,
     "input": [
      "# how to get the most popular name of all time in top_births?\n",
      "\n",
      "most_common_names = top_births.sum()\n",
      "most_common_names.sort(ascending=False)\n",
      "\n",
      "most_common_names.head()"
     ],
     "language": "python",
     "metadata": {},
     "outputs": []
    },
    {
     "cell_type": "code",
     "collapsed": false,
     "input": [
      "plt.figure()\n",
      "most_common_names[:50][::-1].plot(kind='barh', figsize=(10,10))"
     ],
     "language": "python",
     "metadata": {},
     "outputs": []
    },
    {
     "cell_type": "heading",
     "level": 1,
     "metadata": {},
     "source": [
      "Starts and Ends of Names"
     ]
    },
    {
     "cell_type": "markdown",
     "metadata": {},
     "source": [
      "We go from 1880 to 2010. \n",
      "\n",
      "It might be helpful to calculate a cumulative sum for all names...\n",
      "\n",
      "* For a name start to happen --> look for the the first non-zero value \n",
      "* For a name death to happen, the cumulative sum has to reach max.\n",
      "\n"
     ]
    },
    {
     "cell_type": "code",
     "collapsed": false,
     "input": [
      "# replace n/a with 0 -- might not actually need to do this\n",
      "\n",
      "top_births = top_births.fillna(0)"
     ],
     "language": "python",
     "metadata": {},
     "outputs": []
    },
    {
     "cell_type": "code",
     "collapsed": false,
     "input": [
      "top_births_cumsum = top_births.apply(lambda s: s.cumsum(), axis=0)"
     ],
     "language": "python",
     "metadata": {},
     "outputs": []
    },
    {
     "cell_type": "code",
     "collapsed": false,
     "input": [
      "def start_year(s):\n",
      "    active_years = s.index[s > 0]\n",
      "    if len(active_years):\n",
      "        return active_years[0]\n",
      "    else:\n",
      "        return None\n",
      "    \n",
      "def end_year(s):\n",
      "    max_years = s.index[s == s.irow(-1)]\n",
      "    return max_years[0]\n",
      "\n",
      "def start_end_years(s):\n",
      "    active_years = s.index[s > 0]\n",
      "    max_years = s.index[s == s.irow(-1)]\n",
      "    return Series({'start': active_years[0] if len(active_years) else None,\n",
      "                   'end': max_years[0] })\n",
      "    \n",
      "    \n",
      "top_births_cumsum.apply(start_end_years)\n"
     ],
     "language": "python",
     "metadata": {},
     "outputs": []
    },
    {
     "cell_type": "heading",
     "level": 2,
     "metadata": {},
     "source": [
      "start/end calc with whole data set"
     ]
    },
    {
     "cell_type": "code",
     "collapsed": false,
     "input": [
      "# instead of top_birth -- get all_births\n",
      "\n",
      "all_births = names.pivot_table('births', rows='year', cols='name', aggfunc=sum)"
     ],
     "language": "python",
     "metadata": {},
     "outputs": []
    },
    {
     "cell_type": "code",
     "collapsed": false,
     "input": [
      "all_births = all_births.fillna(0)\n",
      "all_births.tail()"
     ],
     "language": "python",
     "metadata": {},
     "outputs": []
    },
    {
     "cell_type": "code",
     "collapsed": false,
     "input": [
      "# set up to do start/end calculation\n",
      "\n",
      "all_births_cumsum = all_births.apply(lambda s: s.cumsum(), axis=0)"
     ],
     "language": "python",
     "metadata": {},
     "outputs": []
    },
    {
     "cell_type": "code",
     "collapsed": false,
     "input": [
      "all_births_cumsum.tail()"
     ],
     "language": "python",
     "metadata": {},
     "outputs": []
    },
    {
     "cell_type": "code",
     "collapsed": false,
     "input": [
      "def start_end_years(s):\n",
      "    active_years = s.index[s > 0]\n",
      "    max_years = s.index[s == s.irow(-1)]\n",
      "    return Series({'start': active_years[0] if len(active_years) else None,\n",
      "                   'end': max_years[0] })\n",
      "    \n",
      "    \n",
      "all_start_end = all_births_cumsum.apply(start_end_years)"
     ],
     "language": "python",
     "metadata": {},
     "outputs": []
    },
    {
     "cell_type": "code",
     "collapsed": false,
     "input": [
      "# all_start_end.to_pickle('Day_12_Baby_Names_all_start_end.pickle')"
     ],
     "language": "python",
     "metadata": {},
     "outputs": []
    },
    {
     "cell_type": "code",
     "collapsed": false,
     "input": [
      "all_start_end.tail()"
     ],
     "language": "python",
     "metadata": {},
     "outputs": []
    },
    {
     "cell_type": "code",
     "collapsed": false,
     "input": [
      "vc_start = all_start_end.ix['start'].value_counts()\n",
      "vc_end = all_start_end.ix['end'].value_counts()\n",
      "\n",
      "fig = plt.figure()\n",
      "ax1 = fig.add_subplot(111)\n",
      "plt.ylim(0,2000)\n",
      "ax1.scatter(vc_start.index, vc_start, c='b')\n",
      "ax1.scatter(vc_end.index, vc_end, c='r')\n",
      "ax1.set_xlabel('year')\n",
      "ax1.set_xlabel('number of starts/ends')\n",
      "\n",
      "plt.tight_layout()\n",
      "\n",
      "plt.show()"
     ],
     "language": "python",
     "metadata": {},
     "outputs": []
    },
    {
     "cell_type": "heading",
     "level": 1,
     "metadata": {},
     "source": [
      "Experiments -- don't need to look at closely"
     ]
    },
    {
     "cell_type": "code",
     "collapsed": false,
     "input": [
      "# max / min totals and when? -- awkward -- must be a better way\n",
      "total_births_sum = names.groupby('year').sum()\n",
      "max_value = list(total_births_sum.max())[0]\n",
      "min_value = list(total_births_sum.min())[0]\n",
      "\n",
      "is_max = total_births_sum.births == max_value\n",
      "is_min = total_births_sum.births == min_value\n",
      "is_max[is_max], is_min[is_min]"
     ],
     "language": "python",
     "metadata": {},
     "outputs": []
    },
    {
     "cell_type": "code",
     "collapsed": false,
     "input": [
      "# a \"derivative\" -- when is there great population rate change\n",
      "\n",
      "total_births_sum.diff().plot()"
     ],
     "language": "python",
     "metadata": {},
     "outputs": []
    },
    {
     "cell_type": "code",
     "collapsed": false,
     "input": [
      "# plot multiple names on same plot or as multiple axes\n",
      "\n",
      "def name_sex_count_in_year(name,sex):\n",
      "    return names[(names.name==name) & (names.sex==sex)][['year', 'births']].set_index(keys='year')\n",
      "\n",
      "def name_sex_prop_in_year(name,sex):\n",
      "    return names[(names.name==name) & (names.sex==sex)][['year', 'prop']].set_index(keys='year')\n",
      "\n",
      "name_df = DataFrame(index=np.arange(1880,2010))\n",
      "\n",
      "name_df['Raymond'] = name_sex_count_in_year('Raymond','M')\n",
      "name_df['Laura'] = name_sex_count_in_year('Laura','F')\n",
      "\n",
      "name_df.plot()\n"
     ],
     "language": "python",
     "metadata": {},
     "outputs": []
    },
    {
     "cell_type": "code",
     "collapsed": false,
     "input": [
      "# plot proportion instead of absolute births\n",
      "\n",
      "name_df = DataFrame(index=np.arange(1880,2010))\n",
      "\n",
      "name_df['Raymond'] = name_sex_prop_in_year('Raymond','M')\n",
      "name_df['Laura'] = name_sex_prop_in_year('Laura','F')\n",
      "\n",
      "name_df.plot()"
     ],
     "language": "python",
     "metadata": {},
     "outputs": []
    },
    {
     "cell_type": "code",
     "collapsed": false,
     "input": [
      "total_births.plot(title='Total births by sex and year')"
     ],
     "language": "python",
     "metadata": {},
     "outputs": []
    },
    {
     "cell_type": "code",
     "collapsed": false,
     "input": [
      "# http://en.wikipedia.org/wiki/Human_sex_ratio\n",
      "# make an agg figure\n",
      "fig = figure()\n",
      "\n",
      "# meaning of 111: http://stackoverflow.com/a/3584933/7782\n",
      "ax = fig.add_subplot(111)\n",
      "ax.set_title('Ratio of M to F births')\n",
      "\n",
      "cum_ratio_by_sex = total_births.M.cumsum() / total_births.F.cumsum()\n",
      "cum_ratio_by_sex.plot(ax=ax, label=\"cumulative\", color=\"red\")\n",
      "\n",
      "# add instantaneous ratio\n",
      "\n",
      "annual_ratio_by_sex = total_births.M / total_births.F\n",
      "annual_ratio_by_sex.plot(ax=ax, label=\"annual\", color=\"green\")\n",
      "\n",
      "ax.legend(loc='best')\n",
      "\n",
      "fig.canvas.draw()"
     ],
     "language": "python",
     "metadata": {},
     "outputs": []
    },
    {
     "cell_type": "code",
     "collapsed": false,
     "input": [
      "# number of names over time\n",
      "\n",
      "names.groupby('year').count()[['name']].plot()"
     ],
     "language": "python",
     "metadata": {},
     "outputs": []
    },
    {
     "cell_type": "code",
     "collapsed": false,
     "input": [
      "# first attempt to calculate entropy of names\n",
      "\n",
      "fig = figure()\n",
      "\n",
      "# meaning of 111: http://stackoverflow.com/a/3584933/7782\n",
      "ax = fig.add_subplot(111)\n",
      "ax.set_title('Entropy of names')\n",
      "\n",
      "S_male = names[names.sex=='M'].groupby('year').prop.agg(lambda x: sum([-j*np.log(j) for j in x])) # apply(lambda x: -x*log(x))\n",
      "S_male.plot(ax=ax, label=\"M\", color=\"blue\")\n",
      "\n",
      "S_female = names[names.sex=='F'].groupby('year').prop.agg(lambda x: sum([-j*np.log(j) for j in x])) # apply(lambda x: -x*log(x))\n",
      "S_female.plot(ax=ax, label=\"F\", color=\"red\")\n",
      "\n",
      "ax.legend(loc='best')\n",
      "ax.set_ylim(0)\n",
      "\n",
      "fig.canvas.draw()\n"
     ],
     "language": "python",
     "metadata": {},
     "outputs": []
    },
    {
     "cell_type": "heading",
     "level": 2,
     "metadata": {},
     "source": [
      "Names that are both M and F"
     ]
    },
    {
     "cell_type": "markdown",
     "metadata": {},
     "source": [
      "Goal:  start to explore names that have been given to both male and female babies. Is there a general trend to feminization of names?  (That is, is it more likely that names start as male names become feminine names than vice versa?)"
     ]
    }
   ],
   "metadata": {}
  }
 ]
}
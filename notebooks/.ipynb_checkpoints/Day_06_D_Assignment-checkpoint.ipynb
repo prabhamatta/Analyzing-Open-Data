{
 "metadata": {
  "name": ""
 },
 "nbformat": 3,
 "nbformat_minor": 0,
 "worksheets": [
  {
   "cells": [
    {
     "cell_type": "code",
     "collapsed": false,
     "input": [
      "# Name:Prabhavathi Matta\n",
      "# Assignment 2\n",
      "\n",
      "import pandas as pd\n",
      "from pandas import DataFrame\n",
      "\n",
      "import census\n",
      "import settings\n",
      "import us\n",
      "\n",
      "from itertools import islice\n",
      "\n",
      "# instantiate the census object\n",
      "\n",
      "c=census.Census(settings.CENSUS_KEY)\n"
     ],
     "language": "python",
     "metadata": {},
     "outputs": [],
     "prompt_number": 3
    },
    {
     "cell_type": "code",
     "collapsed": false,
     "input": [
      "#places are the geographical regions specifically under 'states' category\n",
      "#to find the fips of all the states\n",
      "states_fips = [state.fips for state in us.states.STATES ]"
     ],
     "language": "python",
     "metadata": {},
     "outputs": [],
     "prompt_number": 6
    },
    {
     "cell_type": "code",
     "collapsed": false,
     "input": [
      "## EXERCISE\n",
      "## FILL in with your generator for all census places in the 2010 census \n",
      "\n",
      "#submitted in hw\n",
      "# def places(variables=\"NAME\"):\n",
      "#     for fip in states_fips:\n",
      "#         for k in c.sf1.get(variables, geo={'for':'place:*','in':'state:{fips}'.format(fips=fip)}):\n",
      "#             yield k\n",
      "    \n",
      " \n",
      "#FASTER and better method    \n",
      "def places(variables=\"NAME\"):\n",
      "    for k in c.sf1.get(variables, geo={'for':'place:*'}):\n",
      "        if k['state'] in states_fips:\n",
      "            yield k\n",
      "    \n",
      "    \n",
      "## Alternate method: using normal list instead of generator\n",
      "# def places(variables=\"NAME\"):\n",
      "#     k = []\n",
      "#     for fip in states_fips:\n",
      "#         k.extend(c.sf1.get('NAME,P0010001', geo={'for':'place:*','in':'state:{fips}'.format(fips=fip)}))\n",
      "#     return k\n",
      "\n",
      "\n",
      "##this method gives wrong places.\n",
      "# def places(variables=\"NAME\"):\n",
      "#     for k in c.sf1.get('NAME,P0010001', geo={'for':'place:*'}):\n",
      "#          yield k\n",
      "    \n",
      "    \n",
      "    "
     ],
     "language": "python",
     "metadata": {},
     "outputs": [],
     "prompt_number": 4
    },
    {
     "cell_type": "code",
     "collapsed": false,
     "input": [
      "# use this code to run your code\n",
      "# I recommend replacing the None in islice to a small number to make sure you're on \n",
      "# the right track\n",
      "\n",
      "r = list(islice(places(\"NAME,P0010001\"), None))\n",
      "places_df = DataFrame(r)\n",
      "places_df.P0010001 = places_df.P0010001.astype('int')\n",
      "places_df['FIPS'] = places_df.apply(lambda s: s['state']+s['place'], axis=1)\n",
      "\n",
      "print \"number of places\", len(places_df)\n",
      "print \"total pop\", places_df.P0010001.sum()\n",
      "places_df.head()"
     ],
     "language": "python",
     "metadata": {},
     "outputs": [
      {
       "output_type": "stream",
       "stream": "stdout",
       "text": [
        "True\n",
        "number of places"
       ]
      },
      {
       "output_type": "stream",
       "stream": "stdout",
       "text": [
        " 29261\n",
        "total pop 228457238\n"
       ]
      },
      {
       "html": [
        "<div style=\"max-height:1000px;max-width:1500px;overflow:auto;\">\n",
        "<table border=\"1\" class=\"dataframe\">\n",
        "  <thead>\n",
        "    <tr style=\"text-align: right;\">\n",
        "      <th></th>\n",
        "      <th>NAME</th>\n",
        "      <th>P0010001</th>\n",
        "      <th>place</th>\n",
        "      <th>state</th>\n",
        "      <th>FIPS</th>\n",
        "    </tr>\n",
        "  </thead>\n",
        "  <tbody>\n",
        "    <tr>\n",
        "      <th>0</th>\n",
        "      <td>      Abanda CDP</td>\n",
        "      <td>  192</td>\n",
        "      <td> 00100</td>\n",
        "      <td> 01</td>\n",
        "      <td> 0100100</td>\n",
        "    </tr>\n",
        "    <tr>\n",
        "      <th>1</th>\n",
        "      <td>  Abbeville city</td>\n",
        "      <td> 2688</td>\n",
        "      <td> 00124</td>\n",
        "      <td> 01</td>\n",
        "      <td> 0100124</td>\n",
        "    </tr>\n",
        "    <tr>\n",
        "      <th>2</th>\n",
        "      <td> Adamsville city</td>\n",
        "      <td> 4522</td>\n",
        "      <td> 00460</td>\n",
        "      <td> 01</td>\n",
        "      <td> 0100460</td>\n",
        "    </tr>\n",
        "    <tr>\n",
        "      <th>3</th>\n",
        "      <td>    Addison town</td>\n",
        "      <td>  758</td>\n",
        "      <td> 00484</td>\n",
        "      <td> 01</td>\n",
        "      <td> 0100484</td>\n",
        "    </tr>\n",
        "    <tr>\n",
        "      <th>4</th>\n",
        "      <td>      Akron town</td>\n",
        "      <td>  356</td>\n",
        "      <td> 00676</td>\n",
        "      <td> 01</td>\n",
        "      <td> 0100676</td>\n",
        "    </tr>\n",
        "  </tbody>\n",
        "</table>\n",
        "<p>5 rows \u00d7 5 columns</p>\n",
        "</div>"
       ],
       "metadata": {},
       "output_type": "pyout",
       "prompt_number": 9,
       "text": [
        "              NAME  P0010001  place state     FIPS\n",
        "0       Abanda CDP       192  00100    01  0100100\n",
        "1   Abbeville city      2688  00124    01  0100124\n",
        "2  Adamsville city      4522  00460    01  0100460\n",
        "3     Addison town       758  00484    01  0100484\n",
        "4       Akron town       356  00676    01  0100676\n",
        "\n",
        "[5 rows x 5 columns]"
       ]
      }
     ],
     "prompt_number": 9
    },
    {
     "cell_type": "code",
     "collapsed": false,
     "input": [
      "# if you've done this correctly, the following asserts should stop complaining\n",
      "assert places_df.P0010001.sum() == 228457238\n",
      "# number of places in 2010 Census\n",
      "assert len(places_df) == 29261"
     ],
     "language": "python",
     "metadata": {},
     "outputs": [],
     "prompt_number": 8
    }
   ],
   "metadata": {}
  }
 ]
}
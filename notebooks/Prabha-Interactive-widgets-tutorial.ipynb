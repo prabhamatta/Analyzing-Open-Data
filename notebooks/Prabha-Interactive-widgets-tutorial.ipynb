{
 "metadata": {
  "name": "",
  "signature": "sha256:4b5c42366df2a02f3c7626d341ffffd21ebd4bead2971ca0c611cf0f23972368"
 },
 "nbformat": 3,
 "nbformat_minor": 0,
 "worksheets": [
  {
   "cells": [
    {
     "cell_type": "heading",
     "level": 1,
     "metadata": {},
     "source": [
      "Tutorial to create dynamic matplotlib plots using Interactive Widgets"
     ]
    },
    {
     "cell_type": "code",
     "collapsed": false,
     "input": [
      "\n",
      "%pylab inline\n",
      "%matplotlib inline\n",
      "import matplotlib.pyplot as plt\n",
      "\n",
      "from pylab import figure, show\n",
      "from pandas import DataFrame, Series\n",
      "import pandas as pd\n",
      "\n",
      "import json\n",
      "\n",
      "import IPython\n",
      "from IPython.display import display, Image, HTML, clear_output\n",
      "from IPython.html.widgets import interact, interactive, fixed\n",
      "from IPython.html import widgets"
     ],
     "language": "python",
     "metadata": {},
     "outputs": [
      {
       "output_type": "stream",
       "stream": "stdout",
       "text": [
        "Populating the interactive namespace from numpy and matplotlib\n"
       ]
      }
     ],
     "prompt_number": 1
    },
    {
     "cell_type": "code",
     "collapsed": false,
     "input": [
      "#define colors to use in charts\n",
      "COLOR_GRAY = \"#EEEEEE\"\n",
      "COLOR_WHITE = \"#FFFFFF\"\n",
      "COLOR_RED = \"#FC3F52\"\n",
      "COLOR_BLUE = \"#3376A3\"\n",
      "COLOR_ORANGE = \"#F5CB4E\"\n",
      "COLOR_BLACK = \"#303030\"\n",
      "COLOR_GREEN = \"#5FBD48\""
     ],
     "language": "python",
     "metadata": {},
     "outputs": [],
     "prompt_number": 2
    },
    {
     "cell_type": "code",
     "collapsed": false,
     "input": [
      "# Loading acquired companies dataset\n",
      "acquisitions = pd.read_csv('crunchbase_monthly_export_acquisitions.csv')\n",
      "acquisitions.fillna(\"\",inplace=True)\n",
      "\n",
      "#loading investments dataset\n",
      "investments = pd.read_csv('crunchbase_monthly_export_investments.csv')\n",
      "investments.fillna(\"\",inplace=True)\n",
      "\n",
      "#some datacleaning\n",
      "def convert_money(x):\n",
      "    if (x == '' or x == ' '):\n",
      "        return -1\n",
      "    else:\n",
      "        return int(str(x).replace(',', ''))\n",
      "\n",
      "acquisitions.price_amount = acquisitions.price_amount.apply(convert_money)\n",
      "investments.raised_amount_usd = investments.raised_amount_usd.apply(convert_money)"
     ],
     "language": "python",
     "metadata": {},
     "outputs": [
      {
       "ename": "IOError",
       "evalue": "File crunchbase_monthly_export_acquisitions.csv does not exist",
       "output_type": "pyerr",
       "traceback": [
        "\u001b[0;31m---------------------------------------------------------------------------\u001b[0m\n\u001b[0;31mIOError\u001b[0m                                   Traceback (most recent call last)",
        "\u001b[0;32m<ipython-input-3-8adcba7c521c>\u001b[0m in \u001b[0;36m<module>\u001b[0;34m()\u001b[0m\n\u001b[1;32m      1\u001b[0m \u001b[0;31m# Loading acquired companies dataset\u001b[0m\u001b[0;34m\u001b[0m\u001b[0;34m\u001b[0m\u001b[0m\n\u001b[0;32m----> 2\u001b[0;31m \u001b[0macquisitions\u001b[0m \u001b[0;34m=\u001b[0m \u001b[0mpd\u001b[0m\u001b[0;34m.\u001b[0m\u001b[0mread_csv\u001b[0m\u001b[0;34m(\u001b[0m\u001b[0;34m'crunchbase_monthly_export_acquisitions.csv'\u001b[0m\u001b[0;34m)\u001b[0m\u001b[0;34m\u001b[0m\u001b[0m\n\u001b[0m\u001b[1;32m      3\u001b[0m \u001b[0macquisitions\u001b[0m\u001b[0;34m.\u001b[0m\u001b[0mfillna\u001b[0m\u001b[0;34m(\u001b[0m\u001b[0;34m\"\"\u001b[0m\u001b[0;34m,\u001b[0m\u001b[0minplace\u001b[0m\u001b[0;34m=\u001b[0m\u001b[0mTrue\u001b[0m\u001b[0;34m)\u001b[0m\u001b[0;34m\u001b[0m\u001b[0m\n\u001b[1;32m      4\u001b[0m \u001b[0;34m\u001b[0m\u001b[0m\n\u001b[1;32m      5\u001b[0m \u001b[0;31m#loading investments dataset\u001b[0m\u001b[0;34m\u001b[0m\u001b[0;34m\u001b[0m\u001b[0m\n",
        "\u001b[0;32m/Users/prabha/anaconda/lib/python2.7/site-packages/pandas/io/parsers.pyc\u001b[0m in \u001b[0;36mparser_f\u001b[0;34m(filepath_or_buffer, sep, dialect, compression, doublequote, escapechar, quotechar, quoting, skipinitialspace, lineterminator, header, index_col, names, prefix, skiprows, skipfooter, skip_footer, na_values, na_fvalues, true_values, false_values, delimiter, converters, dtype, usecols, engine, delim_whitespace, as_recarray, na_filter, compact_ints, use_unsigned, low_memory, buffer_lines, warn_bad_lines, error_bad_lines, keep_default_na, thousands, comment, decimal, parse_dates, keep_date_col, dayfirst, date_parser, memory_map, nrows, iterator, chunksize, verbose, encoding, squeeze, mangle_dupe_cols, tupleize_cols, infer_datetime_format)\u001b[0m\n\u001b[1;32m    418\u001b[0m                     infer_datetime_format=infer_datetime_format)\n\u001b[1;32m    419\u001b[0m \u001b[0;34m\u001b[0m\u001b[0m\n\u001b[0;32m--> 420\u001b[0;31m         \u001b[0;32mreturn\u001b[0m \u001b[0m_read\u001b[0m\u001b[0;34m(\u001b[0m\u001b[0mfilepath_or_buffer\u001b[0m\u001b[0;34m,\u001b[0m \u001b[0mkwds\u001b[0m\u001b[0;34m)\u001b[0m\u001b[0;34m\u001b[0m\u001b[0m\n\u001b[0m\u001b[1;32m    421\u001b[0m \u001b[0;34m\u001b[0m\u001b[0m\n\u001b[1;32m    422\u001b[0m     \u001b[0mparser_f\u001b[0m\u001b[0;34m.\u001b[0m\u001b[0m__name__\u001b[0m \u001b[0;34m=\u001b[0m \u001b[0mname\u001b[0m\u001b[0;34m\u001b[0m\u001b[0m\n",
        "\u001b[0;32m/Users/prabha/anaconda/lib/python2.7/site-packages/pandas/io/parsers.pyc\u001b[0m in \u001b[0;36m_read\u001b[0;34m(filepath_or_buffer, kwds)\u001b[0m\n\u001b[1;32m    216\u001b[0m \u001b[0;34m\u001b[0m\u001b[0m\n\u001b[1;32m    217\u001b[0m     \u001b[0;31m# Create the parser.\u001b[0m\u001b[0;34m\u001b[0m\u001b[0;34m\u001b[0m\u001b[0m\n\u001b[0;32m--> 218\u001b[0;31m     \u001b[0mparser\u001b[0m \u001b[0;34m=\u001b[0m \u001b[0mTextFileReader\u001b[0m\u001b[0;34m(\u001b[0m\u001b[0mfilepath_or_buffer\u001b[0m\u001b[0;34m,\u001b[0m \u001b[0;34m**\u001b[0m\u001b[0mkwds\u001b[0m\u001b[0;34m)\u001b[0m\u001b[0;34m\u001b[0m\u001b[0m\n\u001b[0m\u001b[1;32m    219\u001b[0m \u001b[0;34m\u001b[0m\u001b[0m\n\u001b[1;32m    220\u001b[0m     \u001b[0;32mif\u001b[0m \u001b[0mnrows\u001b[0m \u001b[0;32mis\u001b[0m \u001b[0;32mnot\u001b[0m \u001b[0mNone\u001b[0m\u001b[0;34m:\u001b[0m\u001b[0;34m\u001b[0m\u001b[0m\n",
        "\u001b[0;32m/Users/prabha/anaconda/lib/python2.7/site-packages/pandas/io/parsers.pyc\u001b[0m in \u001b[0;36m__init__\u001b[0;34m(self, f, engine, **kwds)\u001b[0m\n\u001b[1;32m    500\u001b[0m             \u001b[0mself\u001b[0m\u001b[0;34m.\u001b[0m\u001b[0moptions\u001b[0m\u001b[0;34m[\u001b[0m\u001b[0;34m'has_index_names'\u001b[0m\u001b[0;34m]\u001b[0m \u001b[0;34m=\u001b[0m \u001b[0mkwds\u001b[0m\u001b[0;34m[\u001b[0m\u001b[0;34m'has_index_names'\u001b[0m\u001b[0;34m]\u001b[0m\u001b[0;34m\u001b[0m\u001b[0m\n\u001b[1;32m    501\u001b[0m \u001b[0;34m\u001b[0m\u001b[0m\n\u001b[0;32m--> 502\u001b[0;31m         \u001b[0mself\u001b[0m\u001b[0;34m.\u001b[0m\u001b[0m_make_engine\u001b[0m\u001b[0;34m(\u001b[0m\u001b[0mself\u001b[0m\u001b[0;34m.\u001b[0m\u001b[0mengine\u001b[0m\u001b[0;34m)\u001b[0m\u001b[0;34m\u001b[0m\u001b[0m\n\u001b[0m\u001b[1;32m    503\u001b[0m \u001b[0;34m\u001b[0m\u001b[0m\n\u001b[1;32m    504\u001b[0m     \u001b[0;32mdef\u001b[0m \u001b[0m_get_options_with_defaults\u001b[0m\u001b[0;34m(\u001b[0m\u001b[0mself\u001b[0m\u001b[0;34m,\u001b[0m \u001b[0mengine\u001b[0m\u001b[0;34m)\u001b[0m\u001b[0;34m:\u001b[0m\u001b[0;34m\u001b[0m\u001b[0m\n",
        "\u001b[0;32m/Users/prabha/anaconda/lib/python2.7/site-packages/pandas/io/parsers.pyc\u001b[0m in \u001b[0;36m_make_engine\u001b[0;34m(self, engine)\u001b[0m\n\u001b[1;32m    608\u001b[0m     \u001b[0;32mdef\u001b[0m \u001b[0m_make_engine\u001b[0m\u001b[0;34m(\u001b[0m\u001b[0mself\u001b[0m\u001b[0;34m,\u001b[0m \u001b[0mengine\u001b[0m\u001b[0;34m=\u001b[0m\u001b[0;34m'c'\u001b[0m\u001b[0;34m)\u001b[0m\u001b[0;34m:\u001b[0m\u001b[0;34m\u001b[0m\u001b[0m\n\u001b[1;32m    609\u001b[0m         \u001b[0;32mif\u001b[0m \u001b[0mengine\u001b[0m \u001b[0;34m==\u001b[0m \u001b[0;34m'c'\u001b[0m\u001b[0;34m:\u001b[0m\u001b[0;34m\u001b[0m\u001b[0m\n\u001b[0;32m--> 610\u001b[0;31m             \u001b[0mself\u001b[0m\u001b[0;34m.\u001b[0m\u001b[0m_engine\u001b[0m \u001b[0;34m=\u001b[0m \u001b[0mCParserWrapper\u001b[0m\u001b[0;34m(\u001b[0m\u001b[0mself\u001b[0m\u001b[0;34m.\u001b[0m\u001b[0mf\u001b[0m\u001b[0;34m,\u001b[0m \u001b[0;34m**\u001b[0m\u001b[0mself\u001b[0m\u001b[0;34m.\u001b[0m\u001b[0moptions\u001b[0m\u001b[0;34m)\u001b[0m\u001b[0;34m\u001b[0m\u001b[0m\n\u001b[0m\u001b[1;32m    611\u001b[0m         \u001b[0;32melse\u001b[0m\u001b[0;34m:\u001b[0m\u001b[0;34m\u001b[0m\u001b[0m\n\u001b[1;32m    612\u001b[0m             \u001b[0;32mif\u001b[0m \u001b[0mengine\u001b[0m \u001b[0;34m==\u001b[0m \u001b[0;34m'python'\u001b[0m\u001b[0;34m:\u001b[0m\u001b[0;34m\u001b[0m\u001b[0m\n",
        "\u001b[0;32m/Users/prabha/anaconda/lib/python2.7/site-packages/pandas/io/parsers.pyc\u001b[0m in \u001b[0;36m__init__\u001b[0;34m(self, src, **kwds)\u001b[0m\n\u001b[1;32m    970\u001b[0m         \u001b[0mkwds\u001b[0m\u001b[0;34m[\u001b[0m\u001b[0;34m'allow_leading_cols'\u001b[0m\u001b[0;34m]\u001b[0m \u001b[0;34m=\u001b[0m \u001b[0mself\u001b[0m\u001b[0;34m.\u001b[0m\u001b[0mindex_col\u001b[0m \u001b[0;32mis\u001b[0m \u001b[0;32mnot\u001b[0m \u001b[0mFalse\u001b[0m\u001b[0;34m\u001b[0m\u001b[0m\n\u001b[1;32m    971\u001b[0m \u001b[0;34m\u001b[0m\u001b[0m\n\u001b[0;32m--> 972\u001b[0;31m         \u001b[0mself\u001b[0m\u001b[0;34m.\u001b[0m\u001b[0m_reader\u001b[0m \u001b[0;34m=\u001b[0m \u001b[0m_parser\u001b[0m\u001b[0;34m.\u001b[0m\u001b[0mTextReader\u001b[0m\u001b[0;34m(\u001b[0m\u001b[0msrc\u001b[0m\u001b[0;34m,\u001b[0m \u001b[0;34m**\u001b[0m\u001b[0mkwds\u001b[0m\u001b[0;34m)\u001b[0m\u001b[0;34m\u001b[0m\u001b[0m\n\u001b[0m\u001b[1;32m    973\u001b[0m \u001b[0;34m\u001b[0m\u001b[0m\n\u001b[1;32m    974\u001b[0m         \u001b[0;31m# XXX\u001b[0m\u001b[0;34m\u001b[0m\u001b[0;34m\u001b[0m\u001b[0m\n",
        "\u001b[0;32m/Users/prabha/anaconda/lib/python2.7/site-packages/pandas/parser.so\u001b[0m in \u001b[0;36mpandas.parser.TextReader.__cinit__ (pandas/parser.c:3200)\u001b[0;34m()\u001b[0m\n",
        "\u001b[0;32m/Users/prabha/anaconda/lib/python2.7/site-packages/pandas/parser.so\u001b[0m in \u001b[0;36mpandas.parser.TextReader._setup_parser_source (pandas/parser.c:5559)\u001b[0;34m()\u001b[0m\n",
        "\u001b[0;31mIOError\u001b[0m: File crunchbase_monthly_export_acquisitions.csv does not exist"
       ]
      }
     ],
     "prompt_number": 3
    },
    {
     "cell_type": "heading",
     "level": 3,
     "metadata": {},
     "source": [
      "1. Mean Funding for a category"
     ]
    },
    {
     "cell_type": "code",
     "collapsed": false,
     "input": [
      "\n",
      "def funding_for_category(**kwargs):\n",
      "    for k,v in kwargs.items():\n",
      "        input_cat_code= v\n",
      "        filter = (investments.funded_year > 2000) & (investments.funded_year <= 2013) & (investments.company_category_code == input_cat_code)\n",
      "        categ_grp = investments[filter].groupby('funded_year').mean()\n",
      "        categ_grp.plot(kind='bar',color=COLOR_BLUE,legend=True,label =input_cat_code)\n",
      "        plt.xlabel(\"Funded Year\")\n",
      "        plt.ylabel(\"Mean Funding amount\")\n",
      "        plt.title(\"Mean Funding amount for the category:\"+ input_cat_code, fontsize =15)"
     ],
     "language": "python",
     "metadata": {},
     "outputs": []
    },
    {
     "cell_type": "code",
     "collapsed": false,
     "input": [
      "i = interact(funding_for_category,\n",
      "         Category = widgets.DropdownWidget(value ='software', values=list(acquisitions.groupby('company_category_code').sum().index))\n",
      "         )"
     ],
     "language": "python",
     "metadata": {},
     "outputs": []
    },
    {
     "cell_type": "heading",
     "level": 3,
     "metadata": {},
     "source": [
      "2. For a year, Top cities for acquisitions by year  (x = city, y = count of acquired company and count of acquirer company location, limit = 20, bar)"
     ]
    },
    {
     "cell_type": "code",
     "collapsed": false,
     "input": [
      "def location_acquisitions_for_year(**kwargs):\n",
      "    for k,v in kwargs.items():\n",
      "        year= v\n",
      "        filter = (acquisitions.price_amount > 1) & (acquisitions.company_country_code == 'USA') & (acquisitions.company_city != '') & (acquisitions.acquired_year == year)\n",
      "        #top cities that have a company city listed\n",
      "        company_group = acquisitions[filter].groupby('company_city').count().sort('company_permalink',ascending=False)[:20]\n",
      "        top_cities_acquired = company_group['company_permalink']\n",
      "        top_cities_acquirer = acquisitions[filter].groupby('acquirer_city').count().ix[top_cities_acquired.index]['company_permalink']\n",
      "        #plt.xticks(rotation=45)\n",
      "        top_cities_acquirer.plot(kind='bar',color=COLOR_RED,label='Acquirer City')\n",
      "        top_cities_acquired.plot(kind='bar',color=COLOR_GREEN,stacked=True,label='Acquired City')\n",
      "        plt.title(\"Top cities for acquisitions in a year\\n Green: Acquired City  &  Red : Acquirer City\", fontsize =15)\n",
      "        plt.ylabel(\"Number of acquisitions\")\n",
      "        plt.show()"
     ],
     "language": "python",
     "metadata": {},
     "outputs": []
    },
    {
     "cell_type": "code",
     "collapsed": false,
     "input": [
      "years = range(2000,2014)\n",
      "i = interact(location_acquisitions_for_year,\n",
      "         Year = widgets.DropdownWidget(value =2013, values=years)\n",
      "         )"
     ],
     "language": "python",
     "metadata": {},
     "outputs": []
    },
    {
     "cell_type": "heading",
     "level": 3,
     "metadata": {},
     "source": [
      "3. Side By Side Comparison of Categories by total Funding amount"
     ]
    },
    {
     "cell_type": "code",
     "collapsed": false,
     "input": [
      "def tot_compare_funding_categ1_categ2(**kwargs):\n",
      "    for k,v in kwargs.items():\n",
      "        if k=='Category1':   \n",
      "            categ1= v\n",
      "        if k=='Category2':   \n",
      "            categ2= v\n",
      "    total_funding_for_categories(categ1,categ2)\n",
      "\n",
      "def total_funding_for_categories(categ1,categ2):\n",
      "\n",
      "    filter1 = (investments.funded_year > 2000) & (investments.funded_year <= 2013) & (investments.company_category_code == categ1)\n",
      "    filter2 = (investments.funded_year > 2000) & (investments.funded_year <= 2013) & (investments.company_category_code == categ2)\n",
      "\n",
      "    categ1_grp = investments[filter1].groupby('funded_year').sum()\n",
      "    categ2_grp = investments[filter2].groupby('funded_year').sum()\n",
      "\n",
      "#     fig, axes = plt.subplots(nrows=1, ncols=2, figsize=(12, 12))\n",
      "\n",
      "    categ1_grp.plot(kind='line',color='g',legend=True,label =categ1, linewidth=2.5)\n",
      "    plt.xlabel(\"Funded Year\")\n",
      "    plt.ylabel(\"Total Funding amount\")\n",
      "    plt.title(\"Total Funding amount for the category:\"+ categ1, fontsize =15)\n",
      "\n",
      "    categ2_grp.plot(kind='line',color='b',legend=True,label =categ2, linewidth=2.5)\n",
      "    plt.xlabel(\"Funded Year\")\n",
      "    plt.ylabel(\"Total Funding amount\")\n",
      "    plt.title(\"Total Funding amount for the category: \"+ categ2, fontsize =15)\n",
      "\n",
      "    plt.show()\n"
     ],
     "language": "python",
     "metadata": {},
     "outputs": []
    },
    {
     "cell_type": "code",
     "collapsed": false,
     "input": [
      "category_list = list(acquisitions.groupby('company_category_code').sum().index)\n",
      "i = interact(tot_compare_funding_categ1_categ2,\n",
      "         Category1 = widgets.DropdownWidget(value ='software', values=category_list),\n",
      "         Category2 = widgets.DropdownWidget(value ='web', values=category_list)\n",
      "         )"
     ],
     "language": "python",
     "metadata": {},
     "outputs": []
    }
   ],
   "metadata": {}
  }
 ]
}
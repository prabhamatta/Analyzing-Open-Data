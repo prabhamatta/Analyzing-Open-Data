{
 "metadata": {
  "name": ""
 },
 "nbformat": 3,
 "nbformat_minor": 0,
 "worksheets": [
  {
   "cells": [
    {
     "cell_type": "heading",
     "level": 1,
     "metadata": {},
     "source": [
      "D3 Viewer for Matplotlib"
     ]
    },
    {
     "cell_type": "markdown",
     "metadata": {},
     "source": [
      "This notebook shows a few examples of d3 views of matplotlib plots.\n",
      "The resulting plots can be panned and zoomed using the mouse.\n",
      "\n",
      "See more at http://github.com/jakevdp/mpld3\n",
      "\n",
      "Note that not every feature of matplotlib is yet implemented.  Here are a few examples:"
     ]
    },
    {
     "cell_type": "code",
     "collapsed": false,
     "input": [
      "%matplotlib inline\n",
      "import matplotlib.pyplot as plt\n",
      "import numpy as np"
     ],
     "language": "python",
     "metadata": {},
     "outputs": [],
     "prompt_number": 1
    },
    {
     "cell_type": "code",
     "collapsed": false,
     "input": [
      "from mpld3 import enable_notebook\n",
      "enable_notebook()"
     ],
     "language": "python",
     "metadata": {},
     "outputs": [],
     "prompt_number": 2
    },
    {
     "cell_type": "code",
     "collapsed": false,
     "input": [
      "# Scatter points\n",
      "fig, ax = plt.subplots()\n",
      "np.random.seed(0)\n",
      "x, y = np.random.normal(0, 1, (2, 200))\n",
      "color = np.random.random(200)\n",
      "size = 500 * np.random.random(200)\n",
      "\n",
      "ax.scatter(x, y, c=color, s=size, alpha=0.3)\n",
      "\n",
      "ax.set_xlabel('x axis')\n",
      "ax.set_ylabel('y axis')\n",
      "ax.set_title('Matplotlib Plot Rendered in D3!', size=14)\n",
      "\n",
      "ax.grid(color='lightgray', alpha=0.7)\n"
     ],
     "language": "python",
     "metadata": {},
     "outputs": [
      {
       "metadata": {},
       "output_type": "display_data",
       "text": [
        "<matplotlib.figure.Figure at 0x69de110>"
       ]
      }
     ],
     "prompt_number": 8
    },
    {
     "cell_type": "code",
     "collapsed": false,
     "input": [
      "# Histogram with modified axes/grid\n",
      "fig = plt.figure()\n",
      "\n",
      "ax = fig.add_subplot(111, axisbg='#EEEEEE')\n",
      "ax.grid(color='white', linestyle='solid')\n",
      "\n",
      "x = np.random.normal(size=1000)\n",
      "ax.hist(x, 30, histtype='stepfilled', fc='lightblue', alpha=0.5);"
     ],
     "language": "python",
     "metadata": {},
     "outputs": [
      {
       "metadata": {},
       "output_type": "display_data",
       "png": "[encoded data removed]",
       "text": [
        "<matplotlib.figure.Figure at 0x67a19f0>"
       ]
      }
     ],
     "prompt_number": 9
    },
    {
     "cell_type": "code",
     "collapsed": false,
     "input": [
      "# Draw lines\n",
      "fig, ax = plt.subplots()\n",
      "x = np.linspace(-5, 15, 1000)\n",
      "for offset in np.linspace(0, 3, 7):\n",
      "    ax.plot(x, 0.9 * np.sin(x - offset), lw=5, alpha=0.4)\n",
      "ax.set_xlim(0, 10)\n",
      "ax.set_ylim(-1.2, 1.0)\n",
      "ax.text(5, -1.1, \"Here are some curves\", size=18, ha='center')\n",
      "ax.grid(color='lightgray', alpha=0.7)"
     ],
     "language": "python",
     "metadata": {},
     "outputs": [
      {
       "metadata": {},
       "output_type": "display_data",
       "text": [
        "<matplotlib.figure.Figure at 0x557a810>"
       ]
      }
     ],
     "prompt_number": 5
    },
    {
     "cell_type": "code",
     "collapsed": false,
     "input": [
      "# multiple subplots, shared axes\n",
      "fig, ax = plt.subplots(2, 2, figsize=(8, 6),sharex=True, sharey=True)\n",
      "fig.subplots_adjust(hspace=0.3)\n",
      "\n",
      "np.random.seed(0)\n",
      "\n",
      "for axi in ax.flat:\n",
      "    color = np.random.random(3)\n",
      "    axi.plot(np.random.random(30), lw=2, c=color)\n",
      "    axi.set_title(\"RGB = ({0:.2f}, {1:.2f}, {2:.2f})\".format(*color),\n",
      "                  size=14)\n",
      "    axi.grid(color='lightgray', alpha=0.7)"
     ],
     "language": "python",
     "metadata": {},
     "outputs": [
      {
       "metadata": {},
       "output_type": "display_data",
       "text": [
        "<matplotlib.figure.Figure at 0x627c1f0>"
       ]
      }
     ],
     "prompt_number": 6
    }
   ],
   "metadata": {}
  }
 ]
}